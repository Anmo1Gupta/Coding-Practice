{
 "cells": [
  {
   "cell_type": "markdown",
   "metadata": {},
   "source": [
    "# Arrays"
   ]
  },
  {
   "cell_type": "code",
   "execution_count": 47,
   "metadata": {},
   "outputs": [
    {
     "name": "stdout",
     "output_type": "stream",
     "text": [
      "1 2 3 \n",
      "1 2 3 4 \n",
      "1 2 5 3 4"
     ]
    }
   ],
   "source": [
    "import array\n",
    "arr = array.array('i',[1,2,3])\n",
    "arr\n",
    "for i in range(3):\n",
    "    print(arr[i],end=\" \")\n",
    "\n",
    "print(\"\\r\") #Moves print cursor to next line\n",
    "\n",
    "arr.append(4)\n",
    "\n",
    "for i in range(4):\n",
    "    print(arr[i],end=\" \")\n",
    "\n",
    "arr.insert(2,5)\n",
    "\n",
    "print(\"\\r\")\n",
    "\n",
    "for i in range(5):\n",
    "    print(arr[i],end=\" \")"
   ]
  },
  {
   "cell_type": "code",
   "execution_count": 48,
   "metadata": {},
   "outputs": [
    {
     "name": "stdout",
     "output_type": "stream",
     "text": [
      "1 2 3 4 \n"
     ]
    }
   ],
   "source": [
    "arr.pop(2)\n",
    "\n",
    "for i in range(4):\n",
    "    print(arr[i],end=\" \")\n",
    "print(\"\\r\")"
   ]
  },
  {
   "cell_type": "code",
   "execution_count": 49,
   "metadata": {},
   "outputs": [
    {
     "name": "stdout",
     "output_type": "stream",
     "text": [
      "1 3 4 \n"
     ]
    }
   ],
   "source": [
    "arr.remove(2)\n",
    "\n",
    "for i in range(3):\n",
    "    print(arr[i],end=\" \")\n",
    "print(\"\\r\")"
   ]
  },
  {
   "cell_type": "code",
   "execution_count": 50,
   "metadata": {},
   "outputs": [
    {
     "name": "stdout",
     "output_type": "stream",
     "text": [
      "4 3 1"
     ]
    }
   ],
   "source": [
    "revarr = arr[:] # Using [:] to create a separate copy.\n",
    "revarr.reverse()\n",
    "for i in range(3):\n",
    "    print(revarr[i],end=\" \")\n"
   ]
  },
  {
   "cell_type": "code",
   "execution_count": 51,
   "metadata": {},
   "outputs": [
    {
     "name": "stdout",
     "output_type": "stream",
     "text": [
      "(2615375025296, 3)\n"
     ]
    }
   ],
   "source": [
    "print(arr.buffer_info())\n",
    "\n",
    "arr.extend(revarr)"
   ]
  },
  {
   "cell_type": "code",
   "execution_count": 56,
   "metadata": {
    "scrolled": true
   },
   "outputs": [
    {
     "name": "stdout",
     "output_type": "stream",
     "text": [
      "1 3 4 4 3 1 \n",
      "2\n",
      "1 3 4 4 3 1"
     ]
    }
   ],
   "source": [
    "for i in range(6):\n",
    "    print(arr[i],end=\" \")\n",
    "\n",
    "print(\"\\r\")\n",
    "\n",
    "print(arr.count(1))\n",
    "\n",
    "li = arr.tolist()\n",
    "for i in range(len(arr)):\n",
    "    print(li[i],end=\" \")"
   ]
  },
  {
   "cell_type": "markdown",
   "metadata": {},
   "source": [
    "## Array Rotation"
   ]
  },
  {
   "cell_type": "code",
   "execution_count": 61,
   "metadata": {},
   "outputs": [
    {
     "name": "stdout",
     "output_type": "stream",
     "text": [
      "the new array is - \n",
      "4 5 6 1 2 3"
     ]
    }
   ],
   "source": [
    "def arr_rotate(arr, d, n):\n",
    "    temp = array.array('i',[])\n",
    "    for i in range(d):\n",
    "        temp.append(arr[i])\n",
    "    for i in range(n-d):\n",
    "        arr[i] = arr[i+d]\n",
    "    for i in range(d):\n",
    "        arr[n-d+i] = temp[i]\n",
    "    print(\"the new array is - \")\n",
    "    for i in range(n):\n",
    "        print(arr[i],end=\" \")\n",
    "\n",
    "arr1 = array.array('i',[1,2,3,4,5,6])\n",
    "arr_rotate(arr1,3,len(arr1))"
   ]
  },
  {
   "cell_type": "code",
   "execution_count": 63,
   "metadata": {},
   "outputs": [
    {
     "name": "stdout",
     "output_type": "stream",
     "text": [
      "4 5 6 1 2 3"
     ]
    }
   ],
   "source": [
    "#Array Rotation 2\n",
    "def rverseArray(arr1, start, end): \n",
    "    while (start < end): \n",
    "        temp = arr1[start] \n",
    "        arr1[start] = arr1[end] \n",
    "        arr1[end] = temp \n",
    "        start += 1\n",
    "        end = end-1\n",
    "\n",
    "def leftRotate(arr1, d): \n",
    "    if d == 0: \n",
    "        return\n",
    "    n = len(arr1) \n",
    "    rverseArray(arr1, 0, d-1) \n",
    "    rverseArray(arr1, d, n-1) \n",
    "    rverseArray(arr1, 0, n-1) \n",
    "\n",
    "def printArray(arr1): \n",
    "    for i in range(0, len(arr)): \n",
    "        print(arr1[i],end=\" \")\n",
    "\n",
    "arr1 = [1,2,3,4,5,6]\n",
    "n = len(arr1)\n",
    "d = 3\n",
    "\n",
    "d = d % n #If the rotating factor is > n\n",
    "leftRotate(arr1, d)\n",
    "printArray(arr1) "
   ]
  },
  {
   "cell_type": "markdown",
   "metadata": {},
   "source": [
    "## Reverse List"
   ]
  },
  {
   "cell_type": "code",
   "execution_count": 67,
   "metadata": {
    "scrolled": true
   },
   "outputs": [
    {
     "name": "stdout",
     "output_type": "stream",
     "text": [
      "[5, 4, 3, 2, 1]\n"
     ]
    }
   ],
   "source": [
    "def reverseList(A, start, end): \n",
    "    while start < end: \n",
    "        A[start], A[end] = A[end], A[start] \n",
    "        start += 1\n",
    "        end -= 1\n",
    "  \n",
    "A = [1, 2, 3, 4, 5] \n",
    "\n",
    "reverseList(A, 0, 4) \n",
    "print(A) "
   ]
  },
  {
   "cell_type": "markdown",
   "metadata": {},
   "source": [
    "## Put all 0s to end of list"
   ]
  },
  {
   "cell_type": "code",
   "execution_count": 68,
   "metadata": {},
   "outputs": [
    {
     "name": "stdout",
     "output_type": "stream",
     "text": [
      "1 9 8 4 2 7 6 9 0 0 0 0"
     ]
    }
   ],
   "source": [
    "def pushZeroesToEnd(arr):\n",
    "    n = len(arr)\n",
    "    count = 0\n",
    "    for i in range(n):\n",
    "        if(arr[i] !=0):\n",
    "            arr[count]=arr[i]\n",
    "            count += 1\n",
    "    for i in range(count,n):\n",
    "        arr[i] = 0\n",
    "    return arr\n",
    "\n",
    "zeroesArr = [1, 9, 8, 4, 0, 0, 2, 7, 0, 6, 0, 9]; \n",
    "newArr = pushZeroesToEnd(zeroesArr)\n",
    "\n",
    "for i in range(len(newArr)):\n",
    "    print(newArr[i],end=\" \")"
   ]
  },
  {
   "cell_type": "code",
   "execution_count": null,
   "metadata": {},
   "outputs": [],
   "source": []
  }
 ],
 "metadata": {
  "file_extension": ".py",
  "kernelspec": {
   "display_name": "Python 3.8.3 64-bit",
   "language": "python",
   "name": "python38364bit83a512406e754e9b9b342e3375b4fa84"
  },
  "language_info": {
   "codemirror_mode": {
    "name": "ipython",
    "version": 3
   },
   "file_extension": ".py",
   "mimetype": "text/x-python",
   "name": "python",
   "nbconvert_exporter": "python",
   "pygments_lexer": "ipython3",
   "version": "3.8.3"
  },
  "mimetype": "text/x-python",
  "name": "python",
  "npconvert_exporter": "python",
  "pygments_lexer": "ipython3",
  "toc": {
   "base_numbering": 1,
   "nav_menu": {},
   "number_sections": true,
   "sideBar": true,
   "skip_h1_title": false,
   "title_cell": "Table of Contents",
   "title_sidebar": "Contents",
   "toc_cell": false,
   "toc_position": {},
   "toc_section_display": true,
   "toc_window_display": false
  },
  "version": 3
 },
 "nbformat": 4,
 "nbformat_minor": 2
}
