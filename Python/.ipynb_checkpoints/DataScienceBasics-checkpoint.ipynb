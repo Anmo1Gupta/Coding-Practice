{
 "cells": [
  {
   "cell_type": "markdown",
   "metadata": {},
   "source": [
    "# NUMPY"
   ]
  },
  {
   "cell_type": "code",
   "execution_count": 9,
   "metadata": {},
   "outputs": [
    {
     "name": "stdout",
     "output_type": "stream",
     "text": [
      "[[74, 74, 72, 73, 69, 68, 74, 75, 78, 72, 69], [180, 215, 210, 210, 188, 176, 195, 209, 210, 160, 180]]\n",
      "[74, 74, 72, 73, 69, 68, 74, 75, 78, 72, 69, 180, 215, 210, 210, 188, 176, 195, 209, 210, 160, 180]\n"
     ]
    }
   ],
   "source": [
    "import numpy as np\n",
    "\n",
    "height_in = [74,74,72,73,69,68,74,75,78,72,69]\n",
    "weight_lb = [180,215,210,210,188,176,195,209,210,160,180]\n",
    "\n",
    "baseball1=[]\n",
    "baseball1.append(height_in)\n",
    "baseball1.append(weight_lb)\n",
    "\n",
    "#baseball_extend = height_in \n",
    "#This will throw an error since both baseball extend and height_in point to same mem allocations. Hence we use - \n",
    "\n",
    "baseball_extend = height_in[:]\n",
    "baseball_extend.extend(weight_lb)\n",
    "print(baseball1) #Appends adds a list to list\n",
    "print(baseball_extend) # extends adds elements of another list to list"
   ]
  },
  {
   "cell_type": "code",
   "execution_count": 54,
   "metadata": {},
   "outputs": [],
   "source": [
    "np_height_m = np.array(height_in) * 0.0254\n",
    "np_weight_kg = np.array(weight_lb) * 0.453592\n",
    "bmi = np_weight_kg / np_height_m ** 2"
   ]
  },
  {
   "cell_type": "code",
   "execution_count": 55,
   "metadata": {},
   "outputs": [
    {
     "name": "stdout",
     "output_type": "stream",
     "text": [
      "[23.11037639 27.60406069 28.48080465 27.70585312 27.76243923 26.760412\n",
      " 25.03624109 26.12291952 24.26766786 21.69966068 26.58105883]\n",
      "[23.11037639 24.26766786 21.69966068]\n"
     ]
    }
   ],
   "source": [
    "#Subsetting lists\n",
    "print(bmi)\n",
    "lightweight = bmi < 25\n",
    "lightweight\n",
    "print(bmi[lightweight])"
   ]
  },
  {
   "cell_type": "code",
   "execution_count": 56,
   "metadata": {},
   "outputs": [
    {
     "name": "stdout",
     "output_type": "stream",
     "text": [
      "[74, 74, 72, 73, 69, 68, 74, 75, 78, 72, 69, 180, 215, 210, 210, 188, 176, 195, 209, 210, 160, 180]\n",
      "[83.52616  99.40188  97.08312  97.10852  87.027896 81.559392 90.33004\n",
      " 96.705728 97.23552  74.40352  83.39916 ]\n"
     ]
    }
   ],
   "source": [
    "#Adding in numpy arrays\n",
    "print(height_in + weight_lb) #22 elements\n",
    "print(np_height_m + np_weight_kg) # only 11 elements"
   ]
  },
  {
   "cell_type": "code",
   "execution_count": 57,
   "metadata": {},
   "outputs": [
    {
     "name": "stdout",
     "output_type": "stream",
     "text": [
      "[4 5 2]\n",
      "[1 1 2 3 4 0]\n",
      "[4 5 2]\n"
     ]
    }
   ],
   "source": [
    "print(np.array([True, 1, 2]) + np.array([3, 4, False]))\n",
    "\n",
    "print(np.array([True, 1, 2, 3, 4, False]))\n",
    "\n",
    "print(np.array([4, 3, 0]) + np.array([0, 2, 2]))"
   ]
  },
  {
   "cell_type": "code",
   "execution_count": 60,
   "metadata": {},
   "outputs": [
    {
     "data": {
      "text/plain": [
       "array([[ 1.69, 62.17],\n",
       "       [ 1.56,  9.5 ],\n",
       "       [ 1.38, 50.92],\n",
       "       ...,\n",
       "       [ 1.64, 82.33],\n",
       "       [ 1.81, 60.2 ],\n",
       "       [ 1.68, 80.94]])"
      ]
     },
     "execution_count": 60,
     "metadata": {},
     "output_type": "execute_result"
    }
   ],
   "source": [
    "# Numpy Generating Data\n",
    "\n",
    "height = np.round(np.random.normal(1.75, 0.2, 5000) , 2)\n",
    "weight = np.round(np.random.normal(60.32, 15, 5000) , 2)\n",
    "\n",
    "np_city = np.column_stack((height,weight))\n",
    "np_city"
   ]
  },
  {
   "cell_type": "code",
   "execution_count": 58,
   "metadata": {},
   "outputs": [
    {
     "name": "stdout",
     "output_type": "stream",
     "text": [
      "[[180.   78.4]\n",
      " [215.  102.7]\n",
      " [210.   98.5]\n",
      " [188.   75.2]] <class 'numpy.ndarray'>\n",
      "(4, 2)\n"
     ]
    }
   ],
   "source": [
    "#2D nparrays\n",
    "baseball = [[180, 78.4],\n",
    "            [215, 102.7],\n",
    "            [210, 98.5],\n",
    "            [188, 75.2]]\n",
    "np_baseball = np.array(baseball)\n",
    "print(np_baseball,type(np_baseball))\n",
    "print(np_baseball.shape) #Gives rows and columns of the 2D array\n"
   ]
  },
  {
   "cell_type": "code",
   "execution_count": 59,
   "metadata": {},
   "outputs": [
    {
     "name": "stdout",
     "output_type": "stream",
     "text": [
      "102.7\n",
      "102.7\n",
      "[215.  102.7]\n",
      "[ 78.4 102.7  98.5  75.2]\n"
     ]
    }
   ],
   "source": [
    "#Subsetting 2D Array\n",
    "print(np_baseball[1][1]) #printing 2nd row 2nd column\n",
    "print(np_baseball[1,1])\n",
    "print(np_baseball[1,:]) #Printing 2nd row\n",
    "print(np_baseball[:,1]) #Printing 2nd column"
   ]
  },
  {
   "cell_type": "code",
   "execution_count": 66,
   "metadata": {},
   "outputs": [
    {
     "name": "stdout",
     "output_type": "stream",
     "text": [
      "Mean Height =  1.750082\n",
      "Mean Weight =  59.939212\n",
      "Average Weight =  59.939212\n",
      "Median Weight =  60.04\n",
      "Standard Deviation of Weight =  14.84095335142106\n",
      "Average Height =  1.750082\n",
      "Median Height =  1.75\n",
      "Standard Deviation of Height =  0.20069542415311814\n",
      "Correlation Coefficients of Weight wrt Height = \n",
      " [[1.         0.00319918]\n",
      " [0.00319918 1.        ]]\n"
     ]
    }
   ],
   "source": [
    "#2D Array Arithematic\n",
    "\n",
    "# Conversion to m, kg\n",
    "# conversion = np.array([0.0254,0.453592])\n",
    "# baseball * conversion # Will multiply all the elements and give result\n",
    "\n",
    "print(\"Mean Height = \", np.mean(np_city[:,0]))\n",
    "print(\"Mean Weight = \", np.mean(np_city[:,1]))\n",
    "\n",
    "print(\"Average Weight = \", np.average(np_city[:,1]))\n",
    "print(\"Median Weight = \", np.median(np_city[:,1]))\n",
    "print(\"Standard Deviation of Weight = \", np.std(np_city[:,1]))\n",
    "\n",
    "\n",
    "print(\"Average Height = \", np.average(np_city[:,0]))\n",
    "print(\"Median Height = \", np.median(np_city[:,0]))\n",
    "print(\"Standard Deviation of Height = \", np.std(np_city[:,0]))\n",
    "\n",
    "print(\"Correlation Coefficients of Weight wrt Height = \\n\", np.corrcoef(np_city[:,1],np_city[:,0]))\n"
   ]
  },
  {
   "cell_type": "code",
   "execution_count": 55,
   "metadata": {},
   "outputs": [
    {
     "name": "stdout",
     "output_type": "stream",
     "text": [
      "[36.  40.  21.5 19. ]\n",
      "[False  True  True False]\n",
      "[False False False  True]\n",
      "[False  True False  True]\n"
     ]
    }
   ],
   "source": [
    "import numpy as np\n",
    "\n",
    "my_house = np.array([18.0, 20.0, 10.75, 9.50])\n",
    "your_house = np.array([14.0, 24.0, 14.25, 9.0])\n",
    "\n",
    "my_house2 = my_house * 2 #this works!\n",
    "print(my_house2)\n",
    "print(my_house < your_house) #this too\n",
    "\n",
    "#my_house > 13 and your_house < 15 #This doesn't work. Hence, we use - \n",
    "print(np.logical_and(my_house < 11,your_house < 11))\n",
    "print(np.logical_or(my_house > 18.5, my_house < 10))"
   ]
  },
  {
   "cell_type": "markdown",
   "metadata": {},
   "source": [
    "# MATPLOTLIB"
   ]
  },
  {
   "cell_type": "code",
   "execution_count": 2,
   "metadata": {},
   "outputs": [],
   "source": [
    "import matplotlib.pyplot as plt\n",
    "import numpy as np"
   ]
  },
  {
   "cell_type": "code",
   "execution_count": 3,
   "metadata": {},
   "outputs": [
    {
     "data": {
      "image/png": "[encoded data removed]",
      "text/plain": [
       "<Figure size 432x288 with 1 Axes>"
      ]
     },
     "metadata": {
      "needs_background": "light"
     },
     "output_type": "display_data"
    },
    {
     "data": {
      "image/png": "[encoded data removed]",
      "text/plain": [
       "<Figure size 432x288 with 1 Axes>"
      ]
     },
     "metadata": {
      "needs_background": "light"
     },
     "output_type": "display_data"
    }
   ],
   "source": [
    "year = [1950, 1970, 1990, 2010]\n",
    "pop = [2.519, 3.692, 5.263, 6.972]\n",
    "\n",
    "plt.plot(year,pop)\n",
    "plt.show()\n",
    "plt.clf() #to clear plot(?)\n",
    "\n",
    "pop_size = np.array(pop) * 30\n",
    "# pop_size = pop_size *10\n",
    "\n",
    "plt.scatter(year,pop, s = pop_size ) #s gives the size of the points\n",
    "\n",
    "plt.grid(True)\n",
    "\n",
    "#plt.xscale('log') For logarithmic axes\n",
    "plt.show()"
   ]
  },
  {
   "cell_type": "code",
   "execution_count": 4,
   "metadata": {
    "scrolled": true
   },
   "outputs": [
    {
     "data": {
      "image/png": "[encoded data removed]",
      "text/plain": [
       "<Figure size 576x396 with 1 Axes>"
      ]
     },
     "metadata": {},
     "output_type": "display_data"
    },
    {
     "data": {
      "text/plain": [
       "<Figure size 576x396 with 0 Axes>"
      ]
     },
     "metadata": {},
     "output_type": "display_data"
    }
   ],
   "source": [
    "#Histograms\n",
    "\n",
    "plt.style.use('seaborn')\n",
    "# plt.style.use('ggplot')\n",
    "# plt.style.use('seaborn-dark')\n",
    "plt.style.use('tableau-colorblind10')\n",
    "\n",
    "values = [0.4,0.9,1,3.5,5.3,2.7,6.7,9.0,3.4,1.4,7.6,8.8,9.1,4.2,4.4]\n",
    "plt.hist(values) #bins = 10 by default \n",
    "plt.show()\n",
    "plt.clf()\n"
   ]
  },
  {
   "cell_type": "code",
   "execution_count": 17,
   "metadata": {},
   "outputs": [
    {
     "data": {
      "image/png": "[encoded data removed]",
      "text/plain": [
       "<Figure size 576x396 with 1 Axes>"
      ]
     },
     "metadata": {},
     "output_type": "display_data"
    }
   ],
   "source": [
    "years = [1960,1961,1962,1963,1964,1965,1966,1967,1968,1969,1970,1971,1972,1973,1974,1975,1976,1977,1978,1979,1980,1981,1982,1983,1984,1985,1986,1987,1988,1989,1990,1991,1992,1993,1994,1995,1996,1997,1998,1999,2000,2001,2002,2003,2004,2005,2006,2007,2008,2009,2010,2011,2012,2013,2014,2015,2016,2017,2018\n",
    "]\n",
    "pops = [3032019978,3073077563,3126066253,3191186048,3256700083,3323623700,3393699205,3463147267,3533536526,3608235815,3683676306,3761307048,3837726171,3913217944,3989385034,4063806523,4136393107,4208770941,4282341460,4357793599,4434021975,4512268962,4593454253,4675367633,4756998073,4840155168,4925801334,5013576387,5102293348,5190965222,5281340078,5369210095,5453393960,5538448726,5622575421,5707533023,5790454220,5873071768,5954810550,6035284135,6115108363,6194460444,6273526441,6352677699,6432374971,6512602867,6593623202,6675130418,6757887172,6840591577,6922947261,7004011262,7086993625,7170961674,7255653881,7340548192,7426103221,7510990456,7594270356]\n",
    "\n",
    "plt.plot(years,pops)\n",
    "plt.xlabel('Year')\n",
    "plt.ylabel('Population')\n",
    "plt.title('World Population')\n",
    "plt.legend(\"Year\")\n",
    "\n",
    "# locs, labels = plt.yticks()\n",
    "# print(locs,labels)\n",
    "# plt.yticks([3,4,5,6,7],['1B','2B','3B','4B','5B','6B','7B'])\n",
    "\n",
    "plt.show()\n"
   ]
  },
  {
   "cell_type": "code",
   "execution_count": 38,
   "metadata": {},
   "outputs": [
    {
     "data": {
      "image/png": "[encoded data removed]",
      "text/plain": [
       "<Figure size 576x396 with 1 Axes>"
      ]
     },
     "metadata": {},
     "output_type": "display_data"
    }
   ],
   "source": [
    "years = [1800,1850,1900] + years\n",
    "pops = [1000000000,1262000000,1650000000] + pops\n",
    "\n",
    "plt.plot(years,pops)\n",
    "\n",
    "plt.yscale('log')\n",
    "\n",
    "plt.xlabel('Year')\n",
    "plt.ylabel('Population')\n",
    "plt.title('World Population')\n",
    "plt.grid(True)\n",
    "plt.show()"
   ]
  },
  {
   "cell_type": "code",
   "execution_count": 46,
   "metadata": {},
   "outputs": [
    {
     "data": {
      "image/png": "[encoded data removed]",
      "text/plain": [
       "<Figure size 576x396 with 4 Axes>"
      ]
     },
     "metadata": {},
     "output_type": "display_data"
    }
   ],
   "source": [
    "years_np = np.array(years)\n",
    "pops_np = np.array(pops)\n",
    "\n",
    "# Create a figure with 3x1 subplot and activate the top subplot\n",
    "plt.subplot(4, 1, 1)\n",
    "plt.plot(years, pops, color='#648FFF')\n",
    "plt.title('years vs pops')\n",
    "\n",
    "# Activate the middle subplot\n",
    "plt.subplot(4, 1, 2)\n",
    "plt.plot(year, pop, color='#DC267F')\n",
    "plt.title('year vs pop')\n",
    "\n",
    "# Activate the bottom subplot\n",
    "plt.subplot(4, 1, 3)\n",
    "plt.plot(years_np[years_np < 2000], pops_np[years_np < 2000], color='#FFB000')\n",
    "plt.title('pop for year < 1900')\n",
    "\n",
    "plt.subplot(4, 1, 4)\n",
    "plt.plot(years_np[years_np > 2000], pops_np[years_np > 2000], color='#ABC07F')\n",
    "plt.title('pop for year > 1900')\n",
    "\n",
    "plt.xlabel('Year')\n",
    "plt.xlabel('Population')\n",
    "\n",
    "# Improve the spacing between subplots\n",
    "plt.tight_layout()"
   ]
  },
  {
   "cell_type": "markdown",
   "metadata": {},
   "source": [
    "# Pandas"
   ]
  },
  {
   "cell_type": "code",
   "execution_count": 2,
   "metadata": {
    "scrolled": false
   },
   "outputs": [
    {
     "data": {
      "text/html": [
       "<div>\n",
       "<style scoped>\n",
       "    .dataframe tbody tr th:only-of-type {\n",
       "        vertical-align: middle;\n",
       "    }\n",
       "\n",
       "    .dataframe tbody tr th {\n",
       "        vertical-align: top;\n",
       "    }\n",
       "\n",
       "    .dataframe thead th {\n",
       "        text-align: right;\n",
       "    }\n",
       "</style>\n",
       "<table border=\"1\" class=\"dataframe\">\n",
       "  <thead>\n",
       "    <tr style=\"text-align: right;\">\n",
       "      <th></th>\n",
       "      <th>country</th>\n",
       "      <th>drives_right</th>\n",
       "      <th>cars_per_cap</th>\n",
       "    </tr>\n",
       "  </thead>\n",
       "  <tbody>\n",
       "    <tr>\n",
       "      <th>0</th>\n",
       "      <td>United States</td>\n",
       "      <td>True</td>\n",
       "      <td>809</td>\n",
       "    </tr>\n",
       "    <tr>\n",
       "      <th>1</th>\n",
       "      <td>Australia</td>\n",
       "      <td>False</td>\n",
       "      <td>731</td>\n",
       "    </tr>\n",
       "    <tr>\n",
       "      <th>2</th>\n",
       "      <td>Japan</td>\n",
       "      <td>False</td>\n",
       "      <td>588</td>\n",
       "    </tr>\n",
       "    <tr>\n",
       "      <th>3</th>\n",
       "      <td>India</td>\n",
       "      <td>False</td>\n",
       "      <td>18</td>\n",
       "    </tr>\n",
       "    <tr>\n",
       "      <th>4</th>\n",
       "      <td>Russia</td>\n",
       "      <td>True</td>\n",
       "      <td>200</td>\n",
       "    </tr>\n",
       "    <tr>\n",
       "      <th>5</th>\n",
       "      <td>Morocco</td>\n",
       "      <td>True</td>\n",
       "      <td>70</td>\n",
       "    </tr>\n",
       "    <tr>\n",
       "      <th>6</th>\n",
       "      <td>Egypt</td>\n",
       "      <td>True</td>\n",
       "      <td>45</td>\n",
       "    </tr>\n",
       "  </tbody>\n",
       "</table>\n",
       "</div>"
      ],
      "text/plain": [
       "         country  drives_right  cars_per_cap\n",
       "0  United States          True           809\n",
       "1      Australia         False           731\n",
       "2          Japan         False           588\n",
       "3          India         False            18\n",
       "4         Russia          True           200\n",
       "5        Morocco          True            70\n",
       "6          Egypt          True            45"
      ]
     },
     "metadata": {},
     "output_type": "display_data"
    },
    {
     "data": {
      "text/html": [
       "<div>\n",
       "<style scoped>\n",
       "    .dataframe tbody tr th:only-of-type {\n",
       "        vertical-align: middle;\n",
       "    }\n",
       "\n",
       "    .dataframe tbody tr th {\n",
       "        vertical-align: top;\n",
       "    }\n",
       "\n",
       "    .dataframe thead th {\n",
       "        text-align: right;\n",
       "    }\n",
       "</style>\n",
       "<table border=\"1\" class=\"dataframe\">\n",
       "  <thead>\n",
       "    <tr style=\"text-align: right;\">\n",
       "      <th></th>\n",
       "      <th>row_labels</th>\n",
       "      <th>country</th>\n",
       "      <th>drives_right</th>\n",
       "      <th>cars_per_cap</th>\n",
       "    </tr>\n",
       "  </thead>\n",
       "  <tbody>\n",
       "    <tr>\n",
       "      <th>0</th>\n",
       "      <td>US</td>\n",
       "      <td>United States</td>\n",
       "      <td>True</td>\n",
       "      <td>809</td>\n",
       "    </tr>\n",
       "    <tr>\n",
       "      <th>1</th>\n",
       "      <td>AUS</td>\n",
       "      <td>Australia</td>\n",
       "      <td>False</td>\n",
       "      <td>731</td>\n",
       "    </tr>\n",
       "    <tr>\n",
       "      <th>2</th>\n",
       "      <td>JPN</td>\n",
       "      <td>Japan</td>\n",
       "      <td>False</td>\n",
       "      <td>588</td>\n",
       "    </tr>\n",
       "    <tr>\n",
       "      <th>3</th>\n",
       "      <td>IN</td>\n",
       "      <td>India</td>\n",
       "      <td>False</td>\n",
       "      <td>18</td>\n",
       "    </tr>\n",
       "    <tr>\n",
       "      <th>4</th>\n",
       "      <td>RU</td>\n",
       "      <td>Russia</td>\n",
       "      <td>True</td>\n",
       "      <td>200</td>\n",
       "    </tr>\n",
       "    <tr>\n",
       "      <th>5</th>\n",
       "      <td>MOR</td>\n",
       "      <td>Morocco</td>\n",
       "      <td>True</td>\n",
       "      <td>70</td>\n",
       "    </tr>\n",
       "    <tr>\n",
       "      <th>6</th>\n",
       "      <td>EG</td>\n",
       "      <td>Egypt</td>\n",
       "      <td>True</td>\n",
       "      <td>45</td>\n",
       "    </tr>\n",
       "  </tbody>\n",
       "</table>\n",
       "</div>"
      ],
      "text/plain": [
       "  row_labels        country  drives_right  cars_per_cap\n",
       "0         US  United States          True           809\n",
       "1        AUS      Australia         False           731\n",
       "2        JPN          Japan         False           588\n",
       "3         IN          India         False            18\n",
       "4         RU         Russia          True           200\n",
       "5        MOR        Morocco          True            70\n",
       "6         EG          Egypt          True            45"
      ]
     },
     "metadata": {},
     "output_type": "display_data"
    }
   ],
   "source": [
    "import pandas as pd\n",
    "\n",
    "names = ['United States', 'Australia', 'Japan', 'India', 'Russia', 'Morocco', 'Egypt']\n",
    "dr =  [True, False, False, False, True, True, True]\n",
    "cpc = [809, 731, 588, 18, 200, 70, 45]\n",
    "\n",
    "cars_dict = { 'country':names, 'drives_right':dr, 'cars_per_cap':cpc }\n",
    "\n",
    "cars = pd.DataFrame(cars_dict)\n",
    "\n",
    "\n",
    "# print(cars) \n",
    "# Or use display function\n",
    "display(cars)\n",
    "\n",
    "row_labels = ['US','AUS','JPN','IN','RU','MOR','EG']\n",
    "\n",
    "cars.insert(loc=0,column='row_labels',value=row_labels)\n",
    "cars.set_index('row_labels', drop=True) #Dont know why this doesnt work\n",
    "# print(cars)\n",
    "display(cars)"
   ]
  },
  {
   "cell_type": "code",
   "execution_count": 9,
   "metadata": {},
   "outputs": [
    {
     "name": "stdout",
     "output_type": "stream",
     "text": [
      "<class 'pandas.core.frame.DataFrame'>\n",
      "RangeIndex: 7 entries, 0 to 6\n",
      "Data columns (total 4 columns):\n",
      " #   Column        Non-Null Count  Dtype \n",
      "---  ------        --------------  ----- \n",
      " 0   row_labels    7 non-null      object\n",
      " 1   country       7 non-null      object\n",
      " 2   drives_right  7 non-null      bool  \n",
      " 3   cars_per_cap  7 non-null      int64 \n",
      "dtypes: bool(1), int64(1), object(2)\n",
      "memory usage: 183.0+ bytes\n",
      "None\n",
      "\n",
      "\n",
      "(7, 4)\n",
      "\n",
      "\n",
      "       cars_per_cap\n",
      "count      7.000000\n",
      "mean     351.571429\n",
      "std      345.595552\n",
      "min       18.000000\n",
      "25%       57.500000\n",
      "50%      200.000000\n",
      "75%      659.500000\n",
      "max      809.000000\n",
      "\n",
      "\n",
      "Index(['row_labels', 'country', 'drives_right', 'cars_per_cap'], dtype='object')\n",
      "\n",
      "\n",
      "[['US' 'United States' True 809]\n",
      " ['AUS' 'Australia' False 731]\n",
      " ['JPN' 'Japan' False 588]\n",
      " ['IN' 'India' False 18]\n",
      " ['RU' 'Russia' True 200]\n",
      " ['MOR' 'Morocco' True 70]\n",
      " ['EG' 'Egypt' True 45]]\n"
     ]
    }
   ],
   "source": [
    "print(cars.info()) #Tells about the dataframe and columns having any NaN values\n",
    "\n",
    "print('\\n')\n",
    "\n",
    "print(cars.shape) \n",
    "\n",
    "print('\\n')\n",
    "\n",
    "print(cars.describe()) #Gives numerical statistics / Mathematical Description of data\n",
    "\n",
    "print('\\n')\n",
    "\n",
    "print(cars.columns)\n",
    "\n",
    "print('\\n')\n",
    "\n",
    "print(cars.values) #Gives info as a list of records"
   ]
  },
  {
   "cell_type": "code",
   "execution_count": 3,
   "metadata": {},
   "outputs": [
    {
     "name": "stdout",
     "output_type": "stream",
     "text": [
      "<class 'pandas.core.series.Series'>\n",
      "<class 'pandas.core.frame.DataFrame'>\n",
      "         country  cars_per_cap\n",
      "0  United States           809\n",
      "1      Australia           731\n",
      "2          Japan           588\n",
      "3          India            18\n",
      "4         Russia           200\n",
      "5        Morocco            70\n",
      "6          Egypt            45\n"
     ]
    },
    {
     "data": {
      "text/html": [
       "<div>\n",
       "<style scoped>\n",
       "    .dataframe tbody tr th:only-of-type {\n",
       "        vertical-align: middle;\n",
       "    }\n",
       "\n",
       "    .dataframe tbody tr th {\n",
       "        vertical-align: top;\n",
       "    }\n",
       "\n",
       "    .dataframe thead th {\n",
       "        text-align: right;\n",
       "    }\n",
       "</style>\n",
       "<table border=\"1\" class=\"dataframe\">\n",
       "  <thead>\n",
       "    <tr style=\"text-align: right;\">\n",
       "      <th></th>\n",
       "      <th>row_labels</th>\n",
       "      <th>country</th>\n",
       "      <th>drives_right</th>\n",
       "      <th>cars_per_cap</th>\n",
       "    </tr>\n",
       "  </thead>\n",
       "  <tbody>\n",
       "    <tr>\n",
       "      <th>0</th>\n",
       "      <td>US</td>\n",
       "      <td>United States</td>\n",
       "      <td>True</td>\n",
       "      <td>809</td>\n",
       "    </tr>\n",
       "    <tr>\n",
       "      <th>1</th>\n",
       "      <td>AUS</td>\n",
       "      <td>Australia</td>\n",
       "      <td>False</td>\n",
       "      <td>731</td>\n",
       "    </tr>\n",
       "    <tr>\n",
       "      <th>2</th>\n",
       "      <td>JPN</td>\n",
       "      <td>Japan</td>\n",
       "      <td>False</td>\n",
       "      <td>588</td>\n",
       "    </tr>\n",
       "  </tbody>\n",
       "</table>\n",
       "</div>"
      ],
      "text/plain": [
       "  row_labels        country  drives_right  cars_per_cap\n",
       "0         US  United States          True           809\n",
       "1        AUS      Australia         False           731\n",
       "2        JPN          Japan         False           588"
      ]
     },
     "execution_count": 3,
     "metadata": {},
     "output_type": "execute_result"
    }
   ],
   "source": [
    "print(type(cars['country']))\n",
    "print(type(cars[['country']]))\n",
    "\n",
    "#Sub-dataframe\n",
    "print(cars[['country','cars_per_cap']])\n",
    "\n",
    "cars[0:3] #Printing the first 3 rows"
   ]
  },
  {
   "cell_type": "code",
   "execution_count": 4,
   "metadata": {},
   "outputs": [
    {
     "name": "stdout",
     "output_type": "stream",
     "text": [
      "row_labels            AUS\n",
      "country         Australia\n",
      "drives_right        False\n",
      "cars_per_cap          731\n",
      "Name: 1, dtype: object\n",
      "         country\n",
      "0  United States\n",
      "1      Australia\n",
      "2          Japan\n",
      "3          India\n",
      "4         Russia\n",
      "5        Morocco\n",
      "6          Egypt\n",
      "  row_labels    country  drives_right  cars_per_cap\n",
      "1        AUS  Australia         False           731\n"
     ]
    },
    {
     "data": {
      "text/html": [
       "<div>\n",
       "<style scoped>\n",
       "    .dataframe tbody tr th:only-of-type {\n",
       "        vertical-align: middle;\n",
       "    }\n",
       "\n",
       "    .dataframe tbody tr th {\n",
       "        vertical-align: top;\n",
       "    }\n",
       "\n",
       "    .dataframe thead th {\n",
       "        text-align: right;\n",
       "    }\n",
       "</style>\n",
       "<table border=\"1\" class=\"dataframe\">\n",
       "  <thead>\n",
       "    <tr style=\"text-align: right;\">\n",
       "      <th></th>\n",
       "      <th>row_labels</th>\n",
       "      <th>country</th>\n",
       "      <th>drives_right</th>\n",
       "      <th>cars_per_cap</th>\n",
       "    </tr>\n",
       "  </thead>\n",
       "  <tbody>\n",
       "    <tr>\n",
       "      <th>1</th>\n",
       "      <td>AUS</td>\n",
       "      <td>Australia</td>\n",
       "      <td>False</td>\n",
       "      <td>731</td>\n",
       "    </tr>\n",
       "    <tr>\n",
       "      <th>2</th>\n",
       "      <td>JPN</td>\n",
       "      <td>Japan</td>\n",
       "      <td>False</td>\n",
       "      <td>588</td>\n",
       "    </tr>\n",
       "    <tr>\n",
       "      <th>3</th>\n",
       "      <td>IN</td>\n",
       "      <td>India</td>\n",
       "      <td>False</td>\n",
       "      <td>18</td>\n",
       "    </tr>\n",
       "  </tbody>\n",
       "</table>\n",
       "</div>"
      ],
      "text/plain": [
       "  row_labels    country  drives_right  cars_per_cap\n",
       "1        AUS  Australia         False           731\n",
       "2        JPN      Japan         False           588\n",
       "3         IN      India         False            18"
      ]
     },
     "execution_count": 4,
     "metadata": {},
     "output_type": "execute_result"
    }
   ],
   "source": [
    "print(cars.loc[1]) #As series\n",
    "\n",
    "#We can also printout the columns as a series - \n",
    "print(cars.loc[:,['country']])\n",
    "\n",
    "print(cars.loc[[1]]) #As dataframe\n",
    "\n",
    "cars.loc[[1,2,3]]"
   ]
  },
  {
   "cell_type": "code",
   "execution_count": 5,
   "metadata": {},
   "outputs": [
    {
     "data": {
      "text/html": [
       "<div>\n",
       "<style scoped>\n",
       "    .dataframe tbody tr th:only-of-type {\n",
       "        vertical-align: middle;\n",
       "    }\n",
       "\n",
       "    .dataframe tbody tr th {\n",
       "        vertical-align: top;\n",
       "    }\n",
       "\n",
       "    .dataframe thead th {\n",
       "        text-align: right;\n",
       "    }\n",
       "</style>\n",
       "<table border=\"1\" class=\"dataframe\">\n",
       "  <thead>\n",
       "    <tr style=\"text-align: right;\">\n",
       "      <th></th>\n",
       "      <th>country</th>\n",
       "      <th>drives_right</th>\n",
       "    </tr>\n",
       "  </thead>\n",
       "  <tbody>\n",
       "    <tr>\n",
       "      <th>2</th>\n",
       "      <td>Japan</td>\n",
       "      <td>False</td>\n",
       "    </tr>\n",
       "    <tr>\n",
       "      <th>4</th>\n",
       "      <td>Russia</td>\n",
       "      <td>True</td>\n",
       "    </tr>\n",
       "    <tr>\n",
       "      <th>6</th>\n",
       "      <td>Egypt</td>\n",
       "      <td>True</td>\n",
       "    </tr>\n",
       "  </tbody>\n",
       "</table>\n",
       "</div>"
      ],
      "text/plain": [
       "  country  drives_right\n",
       "2   Japan         False\n",
       "4  Russia          True\n",
       "6   Egypt          True"
      ]
     },
     "execution_count": 5,
     "metadata": {},
     "output_type": "execute_result"
    }
   ],
   "source": [
    "cars.loc[[2,4,6],[\"country\",\"drives_right\"]] #Intersection of both the conditions"
   ]
  },
  {
   "cell_type": "code",
   "execution_count": 6,
   "metadata": {},
   "outputs": [
    {
     "name": "stdout",
     "output_type": "stream",
     "text": [
      "         country  cars_per_cap\n",
      "0  United States           809\n",
      "1      Australia           731\n",
      "2          Japan           588\n",
      "3          India            18\n",
      "4         Russia           200\n",
      "5        Morocco            70\n",
      "6          Egypt            45\n"
     ]
    },
    {
     "data": {
      "text/html": [
       "<div>\n",
       "<style scoped>\n",
       "    .dataframe tbody tr th:only-of-type {\n",
       "        vertical-align: middle;\n",
       "    }\n",
       "\n",
       "    .dataframe tbody tr th {\n",
       "        vertical-align: top;\n",
       "    }\n",
       "\n",
       "    .dataframe thead th {\n",
       "        text-align: right;\n",
       "    }\n",
       "</style>\n",
       "<table border=\"1\" class=\"dataframe\">\n",
       "  <thead>\n",
       "    <tr style=\"text-align: right;\">\n",
       "      <th></th>\n",
       "      <th>row_labels</th>\n",
       "      <th>country</th>\n",
       "      <th>drives_right</th>\n",
       "      <th>cars_per_cap</th>\n",
       "    </tr>\n",
       "  </thead>\n",
       "  <tbody>\n",
       "    <tr>\n",
       "      <th>1</th>\n",
       "      <td>AUS</td>\n",
       "      <td>Australia</td>\n",
       "      <td>False</td>\n",
       "      <td>731</td>\n",
       "    </tr>\n",
       "    <tr>\n",
       "      <th>2</th>\n",
       "      <td>JPN</td>\n",
       "      <td>Japan</td>\n",
       "      <td>False</td>\n",
       "      <td>588</td>\n",
       "    </tr>\n",
       "  </tbody>\n",
       "</table>\n",
       "</div>"
      ],
      "text/plain": [
       "  row_labels    country  drives_right  cars_per_cap\n",
       "1        AUS  Australia         False           731\n",
       "2        JPN      Japan         False           588"
      ]
     },
     "execution_count": 6,
     "metadata": {},
     "output_type": "execute_result"
    }
   ],
   "source": [
    "print(cars.loc[:,[\"country\",\"cars_per_cap\"]]) #For all rows using loc\n",
    "\n",
    "cars.loc[[1,2],:] #Selecting specific records (for all columns)"
   ]
  },
  {
   "cell_type": "code",
   "execution_count": 7,
   "metadata": {
    "scrolled": true
   },
   "outputs": [
    {
     "data": {
      "text/html": [
       "<div>\n",
       "<style scoped>\n",
       "    .dataframe tbody tr th:only-of-type {\n",
       "        vertical-align: middle;\n",
       "    }\n",
       "\n",
       "    .dataframe tbody tr th {\n",
       "        vertical-align: top;\n",
       "    }\n",
       "\n",
       "    .dataframe thead th {\n",
       "        text-align: right;\n",
       "    }\n",
       "</style>\n",
       "<table border=\"1\" class=\"dataframe\">\n",
       "  <thead>\n",
       "    <tr style=\"text-align: right;\">\n",
       "      <th></th>\n",
       "      <th>country</th>\n",
       "      <th>cars_per_cap</th>\n",
       "    </tr>\n",
       "  </thead>\n",
       "  <tbody>\n",
       "    <tr>\n",
       "      <th>0</th>\n",
       "      <td>United States</td>\n",
       "      <td>809</td>\n",
       "    </tr>\n",
       "    <tr>\n",
       "      <th>1</th>\n",
       "      <td>Australia</td>\n",
       "      <td>731</td>\n",
       "    </tr>\n",
       "    <tr>\n",
       "      <th>2</th>\n",
       "      <td>Japan</td>\n",
       "      <td>588</td>\n",
       "    </tr>\n",
       "    <tr>\n",
       "      <th>3</th>\n",
       "      <td>India</td>\n",
       "      <td>18</td>\n",
       "    </tr>\n",
       "    <tr>\n",
       "      <th>4</th>\n",
       "      <td>Russia</td>\n",
       "      <td>200</td>\n",
       "    </tr>\n",
       "    <tr>\n",
       "      <th>5</th>\n",
       "      <td>Morocco</td>\n",
       "      <td>70</td>\n",
       "    </tr>\n",
       "    <tr>\n",
       "      <th>6</th>\n",
       "      <td>Egypt</td>\n",
       "      <td>45</td>\n",
       "    </tr>\n",
       "  </tbody>\n",
       "</table>\n",
       "</div>"
      ],
      "text/plain": [
       "         country  cars_per_cap\n",
       "0  United States           809\n",
       "1      Australia           731\n",
       "2          Japan           588\n",
       "3          India            18\n",
       "4         Russia           200\n",
       "5        Morocco            70\n",
       "6          Egypt            45"
      ]
     },
     "execution_count": 7,
     "metadata": {},
     "output_type": "execute_result"
    }
   ],
   "source": [
    "cars.iloc[:,[1,3]] #using iloc"
   ]
  },
  {
   "cell_type": "code",
   "execution_count": 10,
   "metadata": {},
   "outputs": [
    {
     "name": "stdout",
     "output_type": "stream",
     "text": [
      "  row_labels country  drives_right  cars_per_cap\n",
      "4         RU  Russia          True           200\n",
      "  row_labels country  drives_right  cars_per_cap\n",
      "4         RU  Russia          True           200\n"
     ]
    }
   ],
   "source": [
    "cpc = cars['cars_per_cap']\n",
    "between = np.logical_and(cpc>100,cpc<500)\n",
    "cars_between = cars[between]\n",
    "print(cars_between)\n",
    "\n",
    "#OR\n",
    "\n",
    "cars_between2 = cars[np.logical_and(cpc>100,cpc<500)]\n",
    "print(cars_between2)"
   ]
  },
  {
   "cell_type": "code",
   "execution_count": 5,
   "metadata": {},
   "outputs": [
    {
     "name": "stdout",
     "output_type": "stream",
     "text": [
      "0\n"
     ]
    },
    {
     "data": {
      "text/plain": [
       "row_labels                 US\n",
       "country         United States\n",
       "drives_right             True\n",
       "cars_per_cap              809\n",
       "Name: 0, dtype: object"
      ]
     },
     "metadata": {},
     "output_type": "display_data"
    },
    {
     "name": "stdout",
     "output_type": "stream",
     "text": [
      "1\n"
     ]
    },
    {
     "data": {
      "text/plain": [
       "row_labels            AUS\n",
       "country         Australia\n",
       "drives_right        False\n",
       "cars_per_cap          731\n",
       "Name: 1, dtype: object"
      ]
     },
     "metadata": {},
     "output_type": "display_data"
    },
    {
     "name": "stdout",
     "output_type": "stream",
     "text": [
      "2\n"
     ]
    },
    {
     "data": {
      "text/plain": [
       "row_labels        JPN\n",
       "country         Japan\n",
       "drives_right    False\n",
       "cars_per_cap      588\n",
       "Name: 2, dtype: object"
      ]
     },
     "metadata": {},
     "output_type": "display_data"
    },
    {
     "name": "stdout",
     "output_type": "stream",
     "text": [
      "3\n"
     ]
    },
    {
     "data": {
      "text/plain": [
       "row_labels         IN\n",
       "country         India\n",
       "drives_right    False\n",
       "cars_per_cap       18\n",
       "Name: 3, dtype: object"
      ]
     },
     "metadata": {},
     "output_type": "display_data"
    },
    {
     "name": "stdout",
     "output_type": "stream",
     "text": [
      "4\n"
     ]
    },
    {
     "data": {
      "text/plain": [
       "row_labels          RU\n",
       "country         Russia\n",
       "drives_right      True\n",
       "cars_per_cap       200\n",
       "Name: 4, dtype: object"
      ]
     },
     "metadata": {},
     "output_type": "display_data"
    },
    {
     "name": "stdout",
     "output_type": "stream",
     "text": [
      "5\n"
     ]
    },
    {
     "data": {
      "text/plain": [
       "row_labels          MOR\n",
       "country         Morocco\n",
       "drives_right       True\n",
       "cars_per_cap         70\n",
       "Name: 5, dtype: object"
      ]
     },
     "metadata": {},
     "output_type": "display_data"
    },
    {
     "name": "stdout",
     "output_type": "stream",
     "text": [
      "6\n"
     ]
    },
    {
     "data": {
      "text/plain": [
       "row_labels         EG\n",
       "country         Egypt\n",
       "drives_right     True\n",
       "cars_per_cap       45\n",
       "Name: 6, dtype: object"
      ]
     },
     "metadata": {},
     "output_type": "display_data"
    }
   ],
   "source": [
    "#Using df.iterrows() \n",
    "for index_value, row_content in cars.iterrows():\n",
    "    print(index_value)\n",
    "    display(row_content)"
   ]
  },
  {
   "cell_type": "code",
   "execution_count": 6,
   "metadata": {},
   "outputs": [
    {
     "data": {
      "text/html": [
       "<div>\n",
       "<style scoped>\n",
       "    .dataframe tbody tr th:only-of-type {\n",
       "        vertical-align: middle;\n",
       "    }\n",
       "\n",
       "    .dataframe tbody tr th {\n",
       "        vertical-align: top;\n",
       "    }\n",
       "\n",
       "    .dataframe thead th {\n",
       "        text-align: right;\n",
       "    }\n",
       "</style>\n",
       "<table border=\"1\" class=\"dataframe\">\n",
       "  <thead>\n",
       "    <tr style=\"text-align: right;\">\n",
       "      <th></th>\n",
       "      <th>row_labels</th>\n",
       "      <th>country</th>\n",
       "      <th>drives_right</th>\n",
       "      <th>cars_per_cap</th>\n",
       "      <th>COUNTRY</th>\n",
       "    </tr>\n",
       "  </thead>\n",
       "  <tbody>\n",
       "    <tr>\n",
       "      <th>0</th>\n",
       "      <td>US</td>\n",
       "      <td>United States</td>\n",
       "      <td>True</td>\n",
       "      <td>809</td>\n",
       "      <td>UNITED STATES</td>\n",
       "    </tr>\n",
       "    <tr>\n",
       "      <th>1</th>\n",
       "      <td>AUS</td>\n",
       "      <td>Australia</td>\n",
       "      <td>False</td>\n",
       "      <td>731</td>\n",
       "      <td>AUSTRALIA</td>\n",
       "    </tr>\n",
       "    <tr>\n",
       "      <th>2</th>\n",
       "      <td>JPN</td>\n",
       "      <td>Japan</td>\n",
       "      <td>False</td>\n",
       "      <td>588</td>\n",
       "      <td>JAPAN</td>\n",
       "    </tr>\n",
       "    <tr>\n",
       "      <th>3</th>\n",
       "      <td>IN</td>\n",
       "      <td>India</td>\n",
       "      <td>False</td>\n",
       "      <td>18</td>\n",
       "      <td>INDIA</td>\n",
       "    </tr>\n",
       "    <tr>\n",
       "      <th>4</th>\n",
       "      <td>RU</td>\n",
       "      <td>Russia</td>\n",
       "      <td>True</td>\n",
       "      <td>200</td>\n",
       "      <td>RUSSIA</td>\n",
       "    </tr>\n",
       "    <tr>\n",
       "      <th>5</th>\n",
       "      <td>MOR</td>\n",
       "      <td>Morocco</td>\n",
       "      <td>True</td>\n",
       "      <td>70</td>\n",
       "      <td>MOROCCO</td>\n",
       "    </tr>\n",
       "    <tr>\n",
       "      <th>6</th>\n",
       "      <td>EG</td>\n",
       "      <td>Egypt</td>\n",
       "      <td>True</td>\n",
       "      <td>45</td>\n",
       "      <td>EGYPT</td>\n",
       "    </tr>\n",
       "  </tbody>\n",
       "</table>\n",
       "</div>"
      ],
      "text/plain": [
       "  row_labels        country  drives_right  cars_per_cap        COUNTRY\n",
       "0         US  United States          True           809  UNITED STATES\n",
       "1        AUS      Australia         False           731      AUSTRALIA\n",
       "2        JPN          Japan         False           588          JAPAN\n",
       "3         IN          India         False            18          INDIA\n",
       "4         RU         Russia          True           200         RUSSIA\n",
       "5        MOR        Morocco          True            70        MOROCCO\n",
       "6         EG          Egypt          True            45          EGYPT"
      ]
     },
     "metadata": {},
     "output_type": "display_data"
    }
   ],
   "source": [
    "#Adding a new column to the DF\n",
    "for lab, row in cars.iterrows():\n",
    "    cars.loc[lab,\"COUNTRY\"] = row[\"country\"].upper()\n",
    "\n",
    "# print(cars)\n",
    "display(cars)"
   ]
  },
  {
   "cell_type": "code",
   "execution_count": 17,
   "metadata": {},
   "outputs": [
    {
     "data": {
      "text/html": [
       "<div>\n",
       "<style scoped>\n",
       "    .dataframe tbody tr th:only-of-type {\n",
       "        vertical-align: middle;\n",
       "    }\n",
       "\n",
       "    .dataframe tbody tr th {\n",
       "        vertical-align: top;\n",
       "    }\n",
       "\n",
       "    .dataframe thead th {\n",
       "        text-align: right;\n",
       "    }\n",
       "</style>\n",
       "<table border=\"1\" class=\"dataframe\">\n",
       "  <thead>\n",
       "    <tr style=\"text-align: right;\">\n",
       "      <th></th>\n",
       "      <th>row_labels</th>\n",
       "      <th>country</th>\n",
       "      <th>drives_right</th>\n",
       "      <th>cars_per_cap</th>\n",
       "    </tr>\n",
       "  </thead>\n",
       "  <tbody>\n",
       "    <tr>\n",
       "      <th>0</th>\n",
       "      <td>US</td>\n",
       "      <td>United States</td>\n",
       "      <td>True</td>\n",
       "      <td>809</td>\n",
       "    </tr>\n",
       "    <tr>\n",
       "      <th>1</th>\n",
       "      <td>AUS</td>\n",
       "      <td>Australia</td>\n",
       "      <td>False</td>\n",
       "      <td>731</td>\n",
       "    </tr>\n",
       "    <tr>\n",
       "      <th>2</th>\n",
       "      <td>JPN</td>\n",
       "      <td>Japan</td>\n",
       "      <td>False</td>\n",
       "      <td>588</td>\n",
       "    </tr>\n",
       "    <tr>\n",
       "      <th>3</th>\n",
       "      <td>IN</td>\n",
       "      <td>India</td>\n",
       "      <td>False</td>\n",
       "      <td>18</td>\n",
       "    </tr>\n",
       "    <tr>\n",
       "      <th>4</th>\n",
       "      <td>RU</td>\n",
       "      <td>Russia</td>\n",
       "      <td>True</td>\n",
       "      <td>200</td>\n",
       "    </tr>\n",
       "    <tr>\n",
       "      <th>5</th>\n",
       "      <td>MOR</td>\n",
       "      <td>Morocco</td>\n",
       "      <td>True</td>\n",
       "      <td>70</td>\n",
       "    </tr>\n",
       "    <tr>\n",
       "      <th>6</th>\n",
       "      <td>EG</td>\n",
       "      <td>Egypt</td>\n",
       "      <td>True</td>\n",
       "      <td>45</td>\n",
       "    </tr>\n",
       "  </tbody>\n",
       "</table>\n",
       "</div>"
      ],
      "text/plain": [
       "  row_labels        country  drives_right  cars_per_cap\n",
       "0         US  United States          True           809\n",
       "1        AUS      Australia         False           731\n",
       "2        JPN          Japan         False           588\n",
       "3         IN          India         False            18\n",
       "4         RU         Russia          True           200\n",
       "5        MOR        Morocco          True            70\n",
       "6         EG          Egypt          True            45"
      ]
     },
     "execution_count": 17,
     "metadata": {},
     "output_type": "execute_result"
    }
   ],
   "source": [
    "del(cars[\"COUNTRY\"])"
   ]
  },
  {
   "cell_type": "code",
   "execution_count": 18,
   "metadata": {},
   "outputs": [
    {
     "data": {
      "text/html": [
       "<div>\n",
       "<style scoped>\n",
       "    .dataframe tbody tr th:only-of-type {\n",
       "        vertical-align: middle;\n",
       "    }\n",
       "\n",
       "    .dataframe tbody tr th {\n",
       "        vertical-align: top;\n",
       "    }\n",
       "\n",
       "    .dataframe thead th {\n",
       "        text-align: right;\n",
       "    }\n",
       "</style>\n",
       "<table border=\"1\" class=\"dataframe\">\n",
       "  <thead>\n",
       "    <tr style=\"text-align: right;\">\n",
       "      <th></th>\n",
       "      <th>row_labels</th>\n",
       "      <th>country</th>\n",
       "      <th>drives_right</th>\n",
       "      <th>cars_per_cap</th>\n",
       "      <th>COUNTRY</th>\n",
       "    </tr>\n",
       "  </thead>\n",
       "  <tbody>\n",
       "    <tr>\n",
       "      <th>0</th>\n",
       "      <td>US</td>\n",
       "      <td>United States</td>\n",
       "      <td>True</td>\n",
       "      <td>809</td>\n",
       "      <td>UNITED STATES</td>\n",
       "    </tr>\n",
       "    <tr>\n",
       "      <th>1</th>\n",
       "      <td>AUS</td>\n",
       "      <td>Australia</td>\n",
       "      <td>False</td>\n",
       "      <td>731</td>\n",
       "      <td>AUSTRALIA</td>\n",
       "    </tr>\n",
       "    <tr>\n",
       "      <th>2</th>\n",
       "      <td>JPN</td>\n",
       "      <td>Japan</td>\n",
       "      <td>False</td>\n",
       "      <td>588</td>\n",
       "      <td>JAPAN</td>\n",
       "    </tr>\n",
       "    <tr>\n",
       "      <th>3</th>\n",
       "      <td>IN</td>\n",
       "      <td>India</td>\n",
       "      <td>False</td>\n",
       "      <td>18</td>\n",
       "      <td>INDIA</td>\n",
       "    </tr>\n",
       "    <tr>\n",
       "      <th>4</th>\n",
       "      <td>RU</td>\n",
       "      <td>Russia</td>\n",
       "      <td>True</td>\n",
       "      <td>200</td>\n",
       "      <td>RUSSIA</td>\n",
       "    </tr>\n",
       "    <tr>\n",
       "      <th>5</th>\n",
       "      <td>MOR</td>\n",
       "      <td>Morocco</td>\n",
       "      <td>True</td>\n",
       "      <td>70</td>\n",
       "      <td>MOROCCO</td>\n",
       "    </tr>\n",
       "    <tr>\n",
       "      <th>6</th>\n",
       "      <td>EG</td>\n",
       "      <td>Egypt</td>\n",
       "      <td>True</td>\n",
       "      <td>45</td>\n",
       "      <td>EGYPT</td>\n",
       "    </tr>\n",
       "  </tbody>\n",
       "</table>\n",
       "</div>"
      ],
      "text/plain": [
       "  row_labels        country  drives_right  cars_per_cap        COUNTRY\n",
       "0         US  United States          True           809  UNITED STATES\n",
       "1        AUS      Australia         False           731      AUSTRALIA\n",
       "2        JPN          Japan         False           588          JAPAN\n",
       "3         IN          India         False            18          INDIA\n",
       "4         RU         Russia          True           200         RUSSIA\n",
       "5        MOR        Morocco          True            70        MOROCCO\n",
       "6         EG          Egypt          True            45          EGYPT"
      ]
     },
     "execution_count": 18,
     "metadata": {},
     "output_type": "execute_result"
    }
   ],
   "source": [
    "#The Apply Function... applies a function? replaces iterrows()\n",
    "\n",
    "cars[\"COUNTRY\"] = cars[\"country\"].apply(str.upper)\n",
    "cars"
   ]
  },
  {
   "cell_type": "code",
   "execution_count": 29,
   "metadata": {},
   "outputs": [
    {
     "data": {
      "text/html": [
       "<div>\n",
       "<style scoped>\n",
       "    .dataframe tbody tr th:only-of-type {\n",
       "        vertical-align: middle;\n",
       "    }\n",
       "\n",
       "    .dataframe tbody tr th {\n",
       "        vertical-align: top;\n",
       "    }\n",
       "\n",
       "    .dataframe thead th {\n",
       "        text-align: right;\n",
       "    }\n",
       "</style>\n",
       "<table border=\"1\" class=\"dataframe\">\n",
       "  <thead>\n",
       "    <tr style=\"text-align: right;\">\n",
       "      <th></th>\n",
       "      <th>row_labels</th>\n",
       "      <th>country</th>\n",
       "      <th>drives_right</th>\n",
       "      <th>cars_per_cap</th>\n",
       "      <th>COUNTRY</th>\n",
       "      <th>cpc_log</th>\n",
       "    </tr>\n",
       "  </thead>\n",
       "  <tbody>\n",
       "    <tr>\n",
       "      <th>0</th>\n",
       "      <td>US</td>\n",
       "      <td>United States</td>\n",
       "      <td>True</td>\n",
       "      <td>809</td>\n",
       "      <td>UNITED STATES</td>\n",
       "      <td>6.695799</td>\n",
       "    </tr>\n",
       "    <tr>\n",
       "      <th>1</th>\n",
       "      <td>AUS</td>\n",
       "      <td>Australia</td>\n",
       "      <td>False</td>\n",
       "      <td>731</td>\n",
       "      <td>AUSTRALIA</td>\n",
       "      <td>6.594413</td>\n",
       "    </tr>\n",
       "    <tr>\n",
       "      <th>2</th>\n",
       "      <td>JPN</td>\n",
       "      <td>Japan</td>\n",
       "      <td>False</td>\n",
       "      <td>588</td>\n",
       "      <td>JAPAN</td>\n",
       "      <td>6.376727</td>\n",
       "    </tr>\n",
       "    <tr>\n",
       "      <th>3</th>\n",
       "      <td>IN</td>\n",
       "      <td>India</td>\n",
       "      <td>False</td>\n",
       "      <td>18</td>\n",
       "      <td>INDIA</td>\n",
       "      <td>2.890372</td>\n",
       "    </tr>\n",
       "    <tr>\n",
       "      <th>4</th>\n",
       "      <td>RU</td>\n",
       "      <td>Russia</td>\n",
       "      <td>True</td>\n",
       "      <td>200</td>\n",
       "      <td>RUSSIA</td>\n",
       "      <td>5.298317</td>\n",
       "    </tr>\n",
       "    <tr>\n",
       "      <th>5</th>\n",
       "      <td>MOR</td>\n",
       "      <td>Morocco</td>\n",
       "      <td>True</td>\n",
       "      <td>70</td>\n",
       "      <td>MOROCCO</td>\n",
       "      <td>4.248495</td>\n",
       "    </tr>\n",
       "    <tr>\n",
       "      <th>6</th>\n",
       "      <td>EG</td>\n",
       "      <td>Egypt</td>\n",
       "      <td>True</td>\n",
       "      <td>45</td>\n",
       "      <td>EGYPT</td>\n",
       "      <td>3.806662</td>\n",
       "    </tr>\n",
       "  </tbody>\n",
       "</table>\n",
       "</div>"
      ],
      "text/plain": [
       "  row_labels        country  drives_right  cars_per_cap        COUNTRY  \\\n",
       "0         US  United States          True           809  UNITED STATES   \n",
       "1        AUS      Australia         False           731      AUSTRALIA   \n",
       "2        JPN          Japan         False           588          JAPAN   \n",
       "3         IN          India         False            18          INDIA   \n",
       "4         RU         Russia          True           200         RUSSIA   \n",
       "5        MOR        Morocco          True            70        MOROCCO   \n",
       "6         EG          Egypt          True            45          EGYPT   \n",
       "\n",
       "    cpc_log  \n",
       "0  6.695799  \n",
       "1  6.594413  \n",
       "2  6.376727  \n",
       "3  2.890372  \n",
       "4  5.298317  \n",
       "5  4.248495  \n",
       "6  3.806662  "
      ]
     },
     "execution_count": 29,
     "metadata": {},
     "output_type": "execute_result"
    }
   ],
   "source": [
    "import math\n",
    "cars[\"cpc_log\"] = cars[\"cars_per_cap\"].apply(math.log)\n",
    "cars"
   ]
  },
  {
   "cell_type": "markdown",
   "metadata": {},
   "source": [
    "# Random program to climb the Empire State Building"
   ]
  },
  {
   "cell_type": "code",
   "execution_count": 9,
   "metadata": {},
   "outputs": [
    {
     "name": "stdout",
     "output_type": "stream",
     "text": [
      "6\n",
      "3\n",
      "[70 94 82 ... 41 27 80]\n",
      "The probability that the number of steps is >= 60 is - 78.14\n"
     ]
    },
    {
     "data": {
      "text/plain": [
       "(array([ 174.,  178.,  289., 1026., 2466., 3022., 2006.,  680.,  142.,\n",
       "          17.]),\n",
       " array([  0. ,  13.9,  27.8,  41.7,  55.6,  69.5,  83.4,  97.3, 111.2,\n",
       "        125.1, 139. ]),\n",
       " <a list of 10 Patch objects>)"
      ]
     },
     "execution_count": 9,
     "metadata": {},
     "output_type": "execute_result"
    },
    {
     "data": {
      "image/png": "[encoded data removed]",
      "text/plain": [
       "<Figure size 576x396 with 1 Axes>"
      ]
     },
     "metadata": {},
     "output_type": "display_data"
    }
   ],
   "source": [
    "import numpy as np\n",
    "import matplotlib.pyplot as plt\n",
    "\n",
    "#using this will render plt.show() useless\n",
    "%matplotlib inline \n",
    "\n",
    "plt.style.use('seaborn') #Using seaborn\n",
    "\n",
    "np.random.seed(123)\n",
    "print(np.random.randint(1,7)) #To simulate a die\n",
    "print(np.random.randint(1,7))\n",
    "no_of_iterations = 10000\n",
    "# Starting step\n",
    "all_walks = []\n",
    "for i in range(no_of_iterations) :\n",
    "    random_walk = [0]\n",
    "    for x in range(100) :\n",
    "        step = random_walk[-1]\n",
    "        dice = np.random.randint(1,7)\n",
    "        if dice <= 2:\n",
    "            step = max(0, step - 1) # max() is used so that the step doesn't go into -ve\n",
    "        elif dice <= 5:\n",
    "            step = step + 1\n",
    "        else:\n",
    "            step = step + np.random.randint(1,7)\n",
    "        if np.random.rand() <= 0.001 : # 0.1% chance that we fall all the way to the bottom\n",
    "            step = 0\n",
    "        random_walk.append(step)\n",
    "    all_walks.append(random_walk)\n",
    "\n",
    "# Create and plot np_aw_t\n",
    "np_aw_t = np.transpose(np.array(all_walks))\n",
    "\n",
    "# Select last row from np_aw_t: ends\n",
    "ends = np_aw_t[-1,:]\n",
    "print(ends)\n",
    "\n",
    "print(\"The probability that the number of steps is >= 60 is -\",(ends[ends>=60].size / no_of_iterations)*100)\n",
    "\n",
    "# Plot histogram of ends, display plot\n",
    "plt.clf()\n",
    "plt.hist(ends, bins=10) # plotting histogram so as to plot the distribution of the probable height climbed\n",
    "# plt.show()"
   ]
  },
  {
   "cell_type": "code",
   "execution_count": 36,
   "metadata": {},
   "outputs": [],
   "source": [
    "import seaborn as sns\n",
    "\n",
    "# Regplot draws a scatterplot, then fits a regression model and plots the resulting regression line \n",
    "# and a 95% confidence interval for that regression.\n",
    "\n",
    "# sns.regplot(x=games_tv['difference_pts'], y=games_tv['share_household'], data=games_tv)\n",
    "\n",
    "# Count halftime show appearances for each musician and sort them from most to least\n",
    "halftime_appearances = halftime_musicians.groupby('musician').count()['super_bowl'].reset_index() #!!!!\n",
    "halftime_appearances = halftime_appearances.sort_values('super_bowl', ascending=False)\n"
   ]
  },
  {
   "cell_type": "code",
   "execution_count": 40,
   "metadata": {
    "scrolled": true
   },
   "outputs": [
    {
     "name": "stdout",
     "output_type": "stream",
     "text": [
      "  row_labels        country  drives_right  cars_per_cap\n",
      "0         US  United States          True           809\n",
      "1        AUS      Australia         False           731\n",
      "2        JPN          Japan         False           588\n",
      "4         RU         Russia          True           200\n",
      "5        MOR        Morocco          True            70\n",
      "6         EG          Egypt          True            45\n",
      "3         IN          India         False            18\n"
     ]
    },
    {
     "data": {
      "text/html": [
       "<div>\n",
       "<style scoped>\n",
       "    .dataframe tbody tr th:only-of-type {\n",
       "        vertical-align: middle;\n",
       "    }\n",
       "\n",
       "    .dataframe tbody tr th {\n",
       "        vertical-align: top;\n",
       "    }\n",
       "\n",
       "    .dataframe thead th {\n",
       "        text-align: right;\n",
       "    }\n",
       "</style>\n",
       "<table border=\"1\" class=\"dataframe\">\n",
       "  <thead>\n",
       "    <tr style=\"text-align: right;\">\n",
       "      <th></th>\n",
       "      <th>row_labels</th>\n",
       "      <th>country</th>\n",
       "      <th>drives_right</th>\n",
       "      <th>cars_per_cap</th>\n",
       "    </tr>\n",
       "  </thead>\n",
       "  <tbody>\n",
       "    <tr>\n",
       "      <th>0</th>\n",
       "      <td>US</td>\n",
       "      <td>United States</td>\n",
       "      <td>True</td>\n",
       "      <td>809</td>\n",
       "    </tr>\n",
       "  </tbody>\n",
       "</table>\n",
       "</div>"
      ],
      "text/plain": [
       "  row_labels        country  drives_right  cars_per_cap\n",
       "0         US  United States          True           809"
      ]
     },
     "metadata": {},
     "output_type": "display_data"
    },
    {
     "name": "stdout",
     "output_type": "stream",
     "text": [
      "\t\tcars_asia\n",
      "   row_labels country  drives_right  cars_per_cap\n",
      "2        JPN   Japan         False           588\n",
      "3         IN   India         False            18\n",
      "4         RU  Russia          True           200\n"
     ]
    }
   ],
   "source": [
    "print(cars.sort_values('cars_per_cap', ascending=False))\n",
    "\n",
    "# print(cars.sort_values(['cars_per_cap','row_labels'], ascending=[False, True]))\n",
    "\n",
    "\n",
    "display(cars[(cars['drives_right']== True) & (cars['cars_per_cap'] >500)]) #Using &\n",
    "\n",
    "\n",
    "is_asia = cars['country'].isin([\"India\",\"Russia\",\"Japan\"]) #Using isin\n",
    "cars[is_asia]\n",
    "#or\n",
    "print(\"\\t\\tcars_asia\\n\",cars[cars['country'].isin([\"India\",\"Russia\",\"Japan\"])])"
   ]
  },
  {
   "cell_type": "code",
   "execution_count": 63,
   "metadata": {
    "scrolled": true
   },
   "outputs": [
    {
     "name": "stdout",
     "output_type": "stream",
     "text": [
      "351.57142857142856\n",
      "200.0\n",
      "0     18\n",
      "1     45\n",
      "2     70\n",
      "3    200\n",
      "4    588\n",
      "5    731\n",
      "6    809\n",
      "dtype: int64\n",
      "18\n",
      "809\n",
      "119436.2857142857\n",
      "345.59555222005633\n",
      "2461\n",
      "200.0\n",
      "pct40     122.0\n",
      "pct80     702.4\n",
      "median    200.0\n",
      "Name: cars_per_cap, dtype: float64\n"
     ]
    },
    {
     "data": {
      "text/plain": [
       "0     809\n",
       "1    1540\n",
       "2    2128\n",
       "3    2146\n",
       "4    2346\n",
       "5    2416\n",
       "6    2461\n",
       "Name: cars_per_cap, dtype: int64"
      ]
     },
     "metadata": {},
     "output_type": "display_data"
    },
    {
     "data": {
      "text/plain": [
       "0    809\n",
       "1    731\n",
       "2    588\n",
       "3     18\n",
       "4     18\n",
       "5     18\n",
       "6     18\n",
       "Name: cars_per_cap, dtype: int64"
      ]
     },
     "metadata": {},
     "output_type": "display_data"
    },
    {
     "data": {
      "text/plain": [
       "0    809\n",
       "1    809\n",
       "2    809\n",
       "3    809\n",
       "4    809\n",
       "5    809\n",
       "6    809\n",
       "Name: cars_per_cap, dtype: int64"
      ]
     },
     "metadata": {},
     "output_type": "display_data"
    },
    {
     "data": {
      "text/plain": [
       "0                 809\n",
       "1              591379\n",
       "2           347730852\n",
       "3          6259155336\n",
       "4       1251831067200\n",
       "5      87628174704000\n",
       "6    3943267861680000\n",
       "Name: cars_per_cap, dtype: int64"
      ]
     },
     "metadata": {},
     "output_type": "display_data"
    }
   ],
   "source": [
    "#Summary Statistics functions\n",
    "print(cars['cars_per_cap'].mean())\n",
    "print(cars['cars_per_cap'].median())\n",
    "print(cars['cars_per_cap'].mode())\n",
    "print(cars['cars_per_cap'].min())\n",
    "print(cars['cars_per_cap'].max())\n",
    "print(cars['cars_per_cap'].var())\n",
    "print(cars['cars_per_cap'].std())\n",
    "print(cars['cars_per_cap'].sum())\n",
    "print(cars['cars_per_cap'].quantile(q=0.5)) #default value being 0.5\n",
    "\n",
    "#Aggegating functions\n",
    "def pct40(column):\n",
    "    return column.quantile(0.4)\n",
    "def pct80(column):\n",
    "    return column.quantile(0.8)\n",
    "\n",
    "print(cars['cars_per_cap'].agg([pct40,pct80,np.median]))\n",
    "\n",
    "#cumulative stats\n",
    "display(cars['cars_per_cap'].cumsum())\n",
    "display(cars['cars_per_cap'].cummin())\n",
    "display(cars['cars_per_cap'].cummax())\n",
    "display(cars['cars_per_cap'].cumprod())"
   ]
  },
  {
   "cell_type": "code",
   "execution_count": 74,
   "metadata": {},
   "outputs": [
    {
     "name": "stdout",
     "output_type": "stream",
     "text": [
      "Count values function = \n",
      " MOR    1\n",
      "RU     1\n",
      "US     1\n",
      "EG     1\n",
      "IN     1\n",
      "JPN    1\n",
      "AUS    1\n",
      "Name: row_labels, dtype: int64\n",
      "Count function =  7\n"
     ]
    },
    {
     "data": {
      "text/plain": [
       "MOR    0.142857\n",
       "RU     0.142857\n",
       "US     0.142857\n",
       "EG     0.142857\n",
       "IN     0.142857\n",
       "JPN    0.142857\n",
       "AUS    0.142857\n",
       "Name: row_labels, dtype: float64"
      ]
     },
     "metadata": {},
     "output_type": "display_data"
    }
   ],
   "source": [
    "# IMP!\n",
    "\n",
    "# Dropping duplicates from 1 or 2 rows taken together\n",
    "cars_1 = cars.drop_duplicates([\"row_labels\",\"country\"])\n",
    "\n",
    "# Counting\n",
    "\n",
    "# cars_1[\"row_labels\"].value_counts()\n",
    "\n",
    "print(\"Count values function = \\n\",cars_1[\"row_labels\"].value_counts(sort=True))\n",
    "print(\"Count function = \",cars_1[\"row_labels\"].count())\n",
    "\n",
    "display(cars_1[\"row_labels\"].value_counts(normalize=True)) #Normalize gives us the % share"
   ]
  },
  {
   "cell_type": "code",
   "execution_count": null,
   "metadata": {},
   "outputs": [],
   "source": [
    "# Using groupby\n",
    "\n",
    "df.groupby(\"column_to_groupby\")[\"additional_columns\", \"to display\"].sum()\n",
    "\n",
    "df.groupby(\"column_to_groupby\")[\"additional_columns\", \"to display\"].agg([np.min, np.max, np.mean, np.median])\n"
   ]
  },
  {
   "cell_type": "code",
   "execution_count": null,
   "metadata": {},
   "outputs": [],
   "source": [
    "# Pandas Pivot Tables - an alternative to groupby\n",
    "\n",
    "df_pt = df.pivot_table(index=\"to_groupby\", values=\"columns_to_calculate\", #index can be a list too for multi-index\n",
    "               aggfunc=np.min, columns=\"column to display vs index (optional)\" #Default aggfunc is mean\n",
    "               , fill_value=0, margins=True ) #0 to replace NaNs, margins will give row/column totals \n",
    "\n",
    "# .loc + slicing is suitable for subsetting\n",
    "df_pt.mean(axis=\"index or columns\")"
   ]
  },
  {
   "cell_type": "code",
   "execution_count": 5,
   "metadata": {},
   "outputs": [],
   "source": [
    "df.set_index() #Also works for multi-level indexes\n",
    "df.reset_index() #Optional parameter drop=True which removes the index from table\n",
    "\n",
    "df[df[\"names\"].isin([\"A\",\"B\",\"C\"])]\n",
    "\n",
    "df.loc[[\"A\",\"B\",\"C\"]] #loc works on indexes so if names was set as an index this line would work.\n",
    "\n",
    "# using loc with multilevel indexes\n",
    "df.loc[[(\"A.index1.name\",\"A.index2.name\"), (\"B.index1.name\",\"B.index2.name\")]] \n",
    "\n",
    "#Sorting using index (works on multilevel indexes as well)\n",
    "df.sort_index(level=[\"A\", \"B\"], ascending=[True, False]) #works with no arguments passed as well"
   ]
  },
  {
   "cell_type": "code",
   "execution_count": null,
   "metadata": {},
   "outputs": [],
   "source": [
    "print(temperatures[temperatures[\"city\"].isin(cities)])\n",
    "# VS\n",
    "print(temperatures_ind.loc[cities])"
   ]
  },
  {
   "cell_type": "code",
   "execution_count": null,
   "metadata": {},
   "outputs": [],
   "source": [
    "# Multilevel indexing using loc on both rows and columns\n",
    "print(temperatures_srt.loc[(\"India\", \"Hyderabad\"):(\"Iraq\", \"Baghdad\"),\"date\":\"avg_temp_c\"])\n",
    "\n",
    "# slicing using subsetting and loc\n",
    "print(temperatures[(temperatures[\"date\"] >= \"2010-01-01\") & (temperatures[\"date\"] <= \"2011-12-31\")])\n",
    "# VS\n",
    "temperatures_ind = temperatures.set_index(\"date\")\n",
    "print(temperatures_ind.loc[\"2010-01-01\":\"2011-12-31\"])"
   ]
  },
  {
   "cell_type": "markdown",
   "metadata": {},
   "source": [
    "## Matplotlib with Pandas"
   ]
  },
  {
   "cell_type": "code",
   "execution_count": null,
   "metadata": {},
   "outputs": [],
   "source": [
    "df.plot(x=\"x_axis\", y=\"y_axis\", kind=\"scatter\",title=\"X vs Y\") #kind = scatter,line,bar\n",
    "\n",
    "# Show the plot\n",
    "plt.show()\n",
    "#For histograms -  df.hist(bins=10)\n",
    "#you can also stack plots(histograms) on top of each other just decrease alpha in args"
   ]
  },
  {
   "cell_type": "code",
   "execution_count": null,
   "metadata": {},
   "outputs": [],
   "source": [
    "#Missing values with Pandas\n",
    "df.isna().any() # Tells if NaN in a column\n",
    "df.isna().sum() # Tells no. of NaN in a column\n",
    "\n",
    "# Dropping columns\n",
    "df.dropna()\n",
    "\n",
    "#Replacing\n",
    "dogs.fillna(0)\n",
    "\n",
    "#plotting bar plot for missing values\n",
    "df.isna().sum().plot(kind=\"bar\")"
   ]
  },
  {
   "cell_type": "code",
   "execution_count": null,
   "metadata": {},
   "outputs": [],
   "source": [
    "df = pd.read_csv(\"\", index_col=\"\", parse_dates=True) #To create datetime objects\n",
    "df.to_csv(\"\")\n",
    "\n",
    "filenames = ['Gold.csv', 'Silver.csv', 'Bronze.csv']\n",
    "dataframes = []\n",
    "for filename in filenames:\n",
    "    dataframes.append(pd.read_csv(filename))\n",
    "\n",
    "#Copy method\n",
    "df1 = df.copy()\n",
    "\n",
    "# Merging dfs\n",
    "merged_df = pd.merge(apps, reviews_df, on = \"common-column\", how = \"inner\")\n",
    "\n",
    "\n",
    "#Indices\n",
    "df.reindex(df0.index) #Or any other list"
   ]
  },
  {
   "cell_type": "code",
   "execution_count": null,
   "metadata": {},
   "outputs": [],
   "source": [
    "# Cleaning Data Sets\n",
    "chars_to_remove = ['+',',','$']\n",
    "cols_to_clean = [\"Installs\", \"Price\"]\n",
    "\n",
    "for col in cols_to_clean:\n",
    "    for char in chars_to_remove:\n",
    "        apps[col] = apps[col].astype(str).str.replace(char, '')\n",
    "    # Convert col to numeric\n",
    "    apps[col] = pd.to_numeric(apps[col]) "
   ]
  },
  {
   "cell_type": "code",
   "execution_count": null,
   "metadata": {},
   "outputs": [],
   "source": [
    "#Arithemetic with series/df\n",
    "df1.divide(df2, axis=\"rows\")\n",
    "\n",
    "df1.add(df2, fill_value=0)\n",
    "df1.add(df2, fill_value=0).add(df3, fill_value=0)\n",
    "\n",
    "df1.pct_change() #% chane over subsequent enntries\n",
    "\n",
    "#Resampling of dataframe\n",
    "df1 = df2.resample('A').last() #A for annually and .last gives the last date of each year"
   ]
  }
 ],
 "metadata": {
  "file_extension": ".py",
  "kernelspec": {
   "display_name": "Python 3.8.2 32-bit",
   "language": "python",
   "name": "python38232bitf8c07512c21b4350bba52397ba6f120d"
  },
  "language_info": {
   "codemirror_mode": {
    "name": "ipython",
    "version": 3
   },
   "file_extension": ".py",
   "mimetype": "text/x-python",
   "name": "python",
   "nbconvert_exporter": "python",
   "pygments_lexer": "ipython3",
   "version": "3.8.2"
  },
  "mimetype": "text/x-python",
  "name": "python",
  "npconvert_exporter": "python",
  "pygments_lexer": "ipython3",
  "version": 3
 },
 "nbformat": 4,
 "nbformat_minor": 2
}
