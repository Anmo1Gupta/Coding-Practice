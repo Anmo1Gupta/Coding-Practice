{
 "cells": [
  {
   "cell_type": "code",
   "execution_count": 1,
   "metadata": {},
   "outputs": [
    {
     "data": {
      "text/plain": "10"
     },
     "execution_count": 1,
     "metadata": {},
     "output_type": "execute_result"
    }
   ],
   "source": [
    "10"
   ]
  },
  {
   "cell_type": "code",
   "execution_count": 53,
   "metadata": {},
   "outputs": [
    {
     "data": {
      "text/plain": [
       "(2, 8, 16)"
      ]
     },
     "execution_count": 53,
     "metadata": {},
     "output_type": "execute_result"
    }
   ],
   "source": [
    "0b10, 0o10, 0x10 # this creates a tuple"
   ]
  },
  {
   "cell_type": "code",
   "execution_count": 54,
   "metadata": {},
   "outputs": [
    {
     "data": {
      "text/plain": [
       "1000"
      ]
     },
     "execution_count": 54,
     "metadata": {},
     "output_type": "execute_result"
    }
   ],
   "source": [
    "int('1000')"
   ]
  },
  {
   "cell_type": "code",
   "execution_count": 55,
   "metadata": {},
   "outputs": [
    {
     "data": {
      "text/plain": [
       "8"
      ]
     },
     "execution_count": 55,
     "metadata": {},
     "output_type": "execute_result"
    }
   ],
   "source": [
    "int('1000', 2) #With base"
   ]
  },
  {
   "cell_type": "code",
   "execution_count": 56,
   "metadata": {},
   "outputs": [
    {
     "data": {
      "text/plain": [
       "(300000000.0, 1.616e-34)"
      ]
     },
     "execution_count": 56,
     "metadata": {},
     "output_type": "execute_result"
    }
   ],
   "source": [
    "3e8, 1.616e-34 #Exponents"
   ]
  },
  {
   "cell_type": "code",
   "execution_count": 57,
   "metadata": {},
   "outputs": [
    {
     "data": {
      "text/plain": [
       "True"
      ]
     },
     "execution_count": 57,
     "metadata": {},
     "output_type": "execute_result"
    }
   ],
   "source": [
    "None\n",
    "a = None\n",
    "a is None #comparing"
   ]
  },
  {
   "cell_type": "code",
   "execution_count": 58,
   "metadata": {},
   "outputs": [
    {
     "data": {
      "text/plain": [
       "(False, True, True, True, False, True, True)"
      ]
     },
     "execution_count": 58,
     "metadata": {},
     "output_type": "execute_result"
    }
   ],
   "source": [
    "bool(0) , bool(1) , bool(-1) , bool(0.4) , bool(\"\") , bool(\"True\") , bool(\"False\") #Non empty String"
   ]
  },
  {
   "cell_type": "code",
   "execution_count": 59,
   "metadata": {},
   "outputs": [
    {
     "name": "stdout",
     "output_type": "stream",
     "text": [
      "IF\n"
     ]
    }
   ],
   "source": [
    "if True:\n",
    "    print(\"IF\")\n",
    "elif False:\n",
    "    print(\"ELIF / Also unreachable\")\n",
    "else:\n",
    "    print(\"Unreachable\")"
   ]
  },
  {
   "cell_type": "code",
   "execution_count": 60,
   "metadata": {},
   "outputs": [
    {
     "name": "stdout",
     "output_type": "stream",
     "text": [
      "5\n",
      "4\n",
      "3\n",
      "2\n",
      "1\n",
      "5\n",
      "4\n",
      "3\n",
      "2\n",
      "1\n"
     ]
    }
   ],
   "source": [
    "c = 5\n",
    "while c!=0:\n",
    "    print(c)\n",
    "    c -= 1\n",
    "c=5\n",
    "while c:\n",
    "    print(c)\n",
    "    c-=1"
   ]
  },
  {
   "cell_type": "code",
   "execution_count": 61,
   "metadata": {},
   "outputs": [
    {
     "name": "stdout",
     "output_type": "stream",
     "text": [
      "\n"
     ]
    },
    {
     "ename": "ValueError",
     "evalue": "invalid literal for int() with base 10: ''",
     "output_type": "error",
     "traceback": [
      "\u001b[1;31m---------------------------------------------------------------------------\u001b[0m",
      "\u001b[1;31mValueError\u001b[0m                                Traceback (most recent call last)",
      "\u001b[1;32m<ipython-input-61-ec16c5c1390a>\u001b[0m in \u001b[0;36m<module>\u001b[1;34m\u001b[0m\n\u001b[0;32m      1\u001b[0m \u001b[1;32mwhile\u001b[0m \u001b[1;32mTrue\u001b[0m\u001b[1;33m:\u001b[0m\u001b[1;33m\u001b[0m\u001b[1;33m\u001b[0m\u001b[0m\n\u001b[0;32m      2\u001b[0m     \u001b[0mresponse\u001b[0m \u001b[1;33m=\u001b[0m \u001b[0minput\u001b[0m\u001b[1;33m(\u001b[0m\u001b[1;33m)\u001b[0m\u001b[1;33m\u001b[0m\u001b[1;33m\u001b[0m\u001b[0m\n\u001b[1;32m----> 3\u001b[1;33m     \u001b[1;32mif\u001b[0m \u001b[0mint\u001b[0m\u001b[1;33m(\u001b[0m\u001b[0mresponse\u001b[0m\u001b[1;33m)\u001b[0m \u001b[1;33m%\u001b[0m \u001b[1;36m7\u001b[0m \u001b[1;33m==\u001b[0m \u001b[1;36m0\u001b[0m\u001b[1;33m:\u001b[0m\u001b[1;33m\u001b[0m\u001b[1;33m\u001b[0m\u001b[0m\n\u001b[0m\u001b[0;32m      4\u001b[0m         \u001b[1;32mbreak\u001b[0m\u001b[1;33m\u001b[0m\u001b[1;33m\u001b[0m\u001b[0m\n",
      "\u001b[1;31mValueError\u001b[0m: invalid literal for int() with base 10: ''"
     ]
    }
   ],
   "source": [
    "while True:\n",
    "    response = input()\n",
    "    if int(response) % 7 == 0:\n",
    "        break"
   ]
  },
  {
   "cell_type": "code",
   "execution_count": null,
   "metadata": {},
   "outputs": [],
   "source": [
    "x = 5\n",
    "print(x)\n",
    "x *= 5"
   ]
  },
  {
   "cell_type": "code",
   "execution_count": 62,
   "metadata": {},
   "outputs": [
    {
     "name": "stdout",
     "output_type": "stream",
     "text": [
      "0\n",
      "10\n",
      "20\n",
      "30\n",
      "40\n"
     ]
    }
   ],
   "source": [
    "for i in range(5):\n",
    "    print(i*10)"
   ]
  },
  {
   "cell_type": "code",
   "execution_count": 63,
   "metadata": {},
   "outputs": [
    {
     "name": "stdout",
     "output_type": "stream",
     "text": [
      "120\n",
      "3628800\n",
      "45.0\n",
      "45\n",
      "30414093201713378043612608166064768844377641568960512000000000000\n"
     ]
    },
    {
     "ename": "TypeError",
     "evalue": "'str' object is not callable",
     "output_type": "error",
     "traceback": [
      "\u001b[1;31m---------------------------------------------------------------------------\u001b[0m",
      "\u001b[1;31mTypeError\u001b[0m                                 Traceback (most recent call last)",
      "\u001b[1;32m<ipython-input-63-017ed6c7c63a>\u001b[0m in \u001b[0;36m<module>\u001b[1;34m\u001b[0m\n\u001b[0;32m     15\u001b[0m \u001b[0mprint\u001b[0m\u001b[1;33m(\u001b[0m\u001b[0mfac\u001b[0m\u001b[1;33m(\u001b[0m\u001b[1;36m50\u001b[0m\u001b[1;33m)\u001b[0m\u001b[1;33m)\u001b[0m\u001b[1;33m\u001b[0m\u001b[1;33m\u001b[0m\u001b[0m\n\u001b[0;32m     16\u001b[0m \u001b[1;33m\u001b[0m\u001b[0m\n\u001b[1;32m---> 17\u001b[1;33m \u001b[0mstr\u001b[0m\u001b[1;33m(\u001b[0m\u001b[0mfac\u001b[0m\u001b[1;33m(\u001b[0m\u001b[1;36m50\u001b[0m\u001b[1;33m)\u001b[0m\u001b[1;33m)\u001b[0m\u001b[1;33m\u001b[0m\u001b[1;33m\u001b[0m\u001b[0m\n\u001b[0m\u001b[0;32m     18\u001b[0m \u001b[1;33m\u001b[0m\u001b[0m\n\u001b[0;32m     19\u001b[0m \u001b[0mprint\u001b[0m\u001b[1;33m(\u001b[0m\u001b[0mlen\u001b[0m\u001b[1;33m(\u001b[0m\u001b[0mstr\u001b[0m\u001b[1;33m(\u001b[0m\u001b[0mfac\u001b[0m\u001b[1;33m(\u001b[0m\u001b[1;36m50\u001b[0m\u001b[1;33m)\u001b[0m\u001b[1;33m)\u001b[0m\u001b[1;33m)\u001b[0m\u001b[1;33m)\u001b[0m\u001b[1;33m\u001b[0m\u001b[1;33m\u001b[0m\u001b[0m\n",
      "\u001b[1;31mTypeError\u001b[0m: 'str' object is not callable"
     ]
    }
   ],
   "source": [
    "import math\n",
    "# help(math) # Doesnt work in jupyter\n",
    "x = math.factorial(5)\n",
    "print(x)\n",
    "\n",
    "from math import factorial as fac\n",
    "print(fac(10))\n",
    "\n",
    "permutation = fac(10) / (fac(8) * fac(2))\n",
    "print(permutation)\n",
    "\n",
    "permutation = fac(10) // (fac(8) * fac(2)) #Converts to integer\n",
    "print(permutation)\n",
    "\n",
    "print(fac(50))\n",
    "\n",
    "str(fac(50))\n",
    "\n",
    "print(len(str(fac(50))))"
   ]
  },
  {
   "cell_type": "code",
   "execution_count": null,
   "metadata": {},
   "outputs": [],
   "source": [
    "'ASDFGH', \"ASDFGH\" #STRINGS are Immutable, Unicode UTF-8"
   ]
  },
  {
   "cell_type": "code",
   "execution_count": null,
   "metadata": {},
   "outputs": [],
   "source": [
    "'\"Yes\", he said, \"I agree!\"' '!!' #Concatenates 2 side by side different string"
   ]
  },
  {
   "cell_type": "code",
   "execution_count": 64,
   "metadata": {},
   "outputs": [
    {
     "data": {
      "text/plain": [
       "'This is \\na multiline \\nstring'"
      ]
     },
     "execution_count": 64,
     "metadata": {},
     "output_type": "execute_result"
    }
   ],
   "source": [
    "\"\"\"This is \n",
    "a multiline \n",
    "string\"\"\""
   ]
  },
  {
   "cell_type": "code",
   "execution_count": 65,
   "metadata": {},
   "outputs": [
    {
     "name": "stdout",
     "output_type": "stream",
     "text": [
      "This is a \\ in a strings\n",
      "This is a ' in a string\n"
     ]
    }
   ],
   "source": [
    "str = \"This is a \\\\ in a strings\"\n",
    "print(str)\n",
    "str = \"This is a \\' in a string\" \n",
    "print(str)"
   ]
  },
  {
   "cell_type": "code",
   "execution_count": 66,
   "metadata": {},
   "outputs": [
    {
     "name": "stdout",
     "output_type": "stream",
     "text": [
      "C:\\Users\\Aa\\Downloads\n"
     ]
    },
    {
     "data": {
      "text/plain": [
       "('C:\\\\Users\\\\Aa\\\\Downloads', None)"
      ]
     },
     "execution_count": 66,
     "metadata": {},
     "output_type": "execute_result"
    }
   ],
   "source": [
    "path = r'C:\\Users\\Aa\\Downloads' #raw string\n",
    "path , print(path)"
   ]
  },
  {
   "cell_type": "code",
   "execution_count": 2,
   "metadata": {},
   "outputs": [
    {
     "name": "stdout",
     "output_type": "stream",
     "text": "p\n<class 'str'>\n"
    }
   ],
   "source": [
    "s = 'parrot'\n",
    "print(s[0])\n",
    "print(type(s[1]))"
   ]
  },
  {
   "cell_type": "code",
   "execution_count": 68,
   "metadata": {},
   "outputs": [
    {
     "data": {
      "text/plain": [
       "'Parrot'"
      ]
     },
     "execution_count": 68,
     "metadata": {},
     "output_type": "execute_result"
    }
   ],
   "source": [
    "s.capitalize() #String_object.string_inbuilt_functions"
   ]
  },
  {
   "cell_type": "code",
   "execution_count": 9,
   "metadata": {},
   "outputs": [
    {
     "name": "stdout",
     "output_type": "stream",
     "text": "torrap\n"
    }
   ],
   "source": [
    "#String Reversal\n",
    "print(s[::-1])"
   ]
  },
  {
   "cell_type": "code",
   "execution_count": 69,
   "metadata": {},
   "outputs": [
    {
     "data": {
      "text/plain": [
       "(115, [b'some', b'bytes'])"
      ]
     },
     "execution_count": 69,
     "metadata": {},
     "output_type": "execute_result"
    }
   ],
   "source": [
    "#Bytes - raw binary data\n",
    "d = b'some bytes'\n",
    "d[0],d.split()"
   ]
  },
  {
   "cell_type": "code",
   "execution_count": 70,
   "metadata": {},
   "outputs": [
    {
     "data": {
      "text/plain": [
       "(b'Finnes det noen her som snakker engelsk? Det er s\\xc3\\xa5 hyggelig \\xc3\\xa5 treffe deg.',\n",
       " 'Finnes det noen her som snakker engelsk? Det er så hyggelig å treffe deg.',\n",
       " True)"
      ]
     },
     "execution_count": 70,
     "metadata": {},
     "output_type": "execute_result"
    }
   ],
   "source": [
    "norsk = \"Finnes det noen her som snakker engelsk? Det er så hyggelig å treffe deg.\" #Norwegian\n",
    "data = norsk.encode('utf-8')\n",
    "norwegian = data.decode('utf-8')\n",
    "data, norwegian , norsk == norwegian"
   ]
  },
  {
   "cell_type": "code",
   "execution_count": 71,
   "metadata": {},
   "outputs": [
    {
     "data": {
      "text/plain": [
       "([1, 2, 3], ['apple', 'orange', 'mango'], 'orange', [1, 2, 3])"
      ]
     },
     "execution_count": 71,
     "metadata": {},
     "output_type": "execute_result"
    }
   ],
   "source": [
    "#Lists\n",
    "a = [1,2,3]\n",
    "b = [\"apple\", \"orange\", \"mango\"]\n",
    "c = []\n",
    "c.append(1)\n",
    "c.append(2)\n",
    "c.append(3)\n",
    "a , b , b[1] , c"
   ]
  },
  {
   "cell_type": "code",
   "execution_count": 72,
   "metadata": {},
   "outputs": [
    {
     "name": "stdout",
     "output_type": "stream",
     "text": [
      "['apple', 7, 'mango']\n"
     ]
    }
   ],
   "source": [
    "b[1] = 7\n",
    "print(b)"
   ]
  },
  {
   "cell_type": "code",
   "execution_count": 73,
   "metadata": {},
   "outputs": [
    {
     "data": {
      "text/plain": [
       "['c', 'o', 'n', 's', 't', 'r', 'u', 'c', 't', 'o', 'r']"
      ]
     },
     "execution_count": 73,
     "metadata": {},
     "output_type": "execute_result"
    }
   ],
   "source": [
    "list('constructor') #Creating a list from strings"
   ]
  },
  {
   "cell_type": "code",
   "execution_count": 74,
   "metadata": {},
   "outputs": [
    {
     "data": {
      "text/plain": [
       "({'alice': '1234', 'bob': '2345', 'cate': '3456', 'charles': '5678'}, '1234')"
      ]
     },
     "execution_count": 74,
     "metadata": {},
     "output_type": "execute_result"
    }
   ],
   "source": [
    "#Dictionaries\n",
    "d = {'alice':'1234','bob':'2345','cate':'3456'}\n",
    "d['charles'] = '5678'\n",
    "d , d['alice']"
   ]
  },
  {
   "cell_type": "code",
   "execution_count": 75,
   "metadata": {},
   "outputs": [
    {
     "name": "stdout",
     "output_type": "stream",
     "text": [
      "new york\n",
      "paris\n",
      "helsinki\n",
      "berlin\n",
      "tokyo\n"
     ]
    }
   ],
   "source": [
    "#For loop\n",
    "cities = ['new york', 'paris', 'helsinki', 'berlin', 'tokyo']\n",
    "for c in cities:\n",
    "    print(c)"
   ]
  },
  {
   "cell_type": "code",
   "execution_count": 4,
   "metadata": {},
   "outputs": [
    {
     "data": {
      "text/plain": "625"
     },
     "execution_count": 4,
     "metadata": {},
     "output_type": "execute_result"
    }
   ],
   "source": [
    "#Functions\n",
    "def square(x):\n",
    "    return x*x\n",
    "square(25)"
   ]
  },
  {
   "cell_type": "code",
   "execution_count": 11,
   "metadata": {},
   "outputs": [
    {
     "name": "stdout",
     "output_type": "stream",
     "text": "Odd!\nTrue\n"
    }
   ],
   "source": [
    "#Early Return\n",
    "def odd_or_even(x):\n",
    "    if x % 2 == 0:\n",
    "        print(\"Even!\")\n",
    "        return \n",
    "    print(\"Odd!\")\n",
    "\n",
    "w = odd_or_even(31) \n",
    "print(w is None)"
   ]
  },
  {
   "cell_type": "code",
   "execution_count": 16,
   "metadata": {},
   "outputs": [
    {
     "name": "stdout",
     "output_type": "stream",
     "text": "4.0\n3.0\n"
    }
   ],
   "source": [
    "# Nth root\n",
    "def nth_root(radicand, n):\n",
    "    return radicand**(1/n)\n",
    "print(nth_root(16,2))\n",
    "print(nth_root(27,3))"
   ]
  },
  {
   "cell_type": "code",
   "execution_count": 16,
   "metadata": {},
   "outputs": [
    {
     "name": "stdout",
     "output_type": "stream",
     "text": "{1: 1, 2: 4, 3: 9, 4: 16, 5: 25, 6: 36, 7: 49, 8: 64, 9: 81, 10: 100, 11: 121, 12: 144, 13: 169, 14: 196, 15: 225, 16: 256, 17: 289, 18: 324, 19: 361, 20: 400, 21: 441, 22: 484, 23: 529, 24: 576, 25: 625, 26: 676, 27: 729, 28: 784, 29: 841, 30: 900, 31: 961, 32: 1024, 33: 1089, 34: 1156, 35: 1225, 36: 1296, 37: 1369, 38: 1444, 39: 1521, 40: 1600, 41: 1681, 42: 1764, 43: 1849, 44: 1936, 45: 2025, 46: 2116, 47: 2209, 48: 2304, 49: 2401, 50: 2500, 51: 2601, 52: 2704, 53: 2809, 54: 2916, 55: 3025, 56: 3136, 57: 3249, 58: 3364, 59: 3481, 60: 3600, 61: 3721, 62: 3844, 63: 3969, 64: 4096, 65: 4225, 66: 4356, 67: 4489, 68: 4624, 69: 4761, 70: 4900, 71: 5041, 72: 5184, 73: 5329, 74: 5476, 75: 5625, 76: 5776, 77: 5929, 78: 6084, 79: 6241, 80: 6400, 81: 6561, 82: 6724, 83: 6889, 84: 7056, 85: 7225, 86: 7396, 87: 7569, 88: 7744, 89: 7921, 90: 8100, 91: 8281, 92: 8464, 93: 8649, 94: 8836, 95: 9025, 96: 9216, 97: 9409, 98: 9604, 99: 9801, 100: 10000, 101: 10201}\n"
    },
    {
     "data": {
      "text/plain": "'Maximum value is: 10201 Minimum value is: 1'"
     },
     "execution_count": 16,
     "metadata": {},
     "output_type": "execute_result"
    }
   ],
   "source": [
    "chegg = {}\n",
    "for i in range(1,102):\n",
    "    chegg[i] = i*i\n",
    "print(chegg)\n",
    "\n",
    "def min_max(chegg):\n",
    "    key_max = max(chegg.keys(), key=(lambda k: chegg[k]))\n",
    "    key_min = min(chegg.keys(), key=(lambda k: chegg[k]))\n",
    "\n",
    "    return \"Maximum value is: \" + str(chegg[key_max]) + \" Minimum value is: \" + str(chegg[key_min])\n",
    "min_max(chegg)\n"
   ]
  },
  {
   "cell_type": "code",
   "execution_count": 3,
   "metadata": {},
   "outputs": [
    {
     "name": "stdout",
     "output_type": "stream",
     "text": "1806826976\n1806828576\nTrue\nTrue\n"
    }
   ],
   "source": [
    "# Objects and Types\n",
    "a = 100\n",
    "print(id(a))\n",
    "b=200\n",
    "print(id(b))\n",
    "b=a\n",
    "print(id(a) == id(b))\n",
    "print(a is b)"
   ]
  },
  {
   "cell_type": "code",
   "execution_count": 5,
   "metadata": {},
   "outputs": [
    {
     "name": "stdout",
     "output_type": "stream",
     "text": "[1, 2, 3]\n[1, 0, 3] [1, 0, 3]\nTrue\nTrue\nFalse\n"
    }
   ],
   "source": [
    "# Python only has named references to objects\n",
    "r = [1,2,3]\n",
    "s = r\n",
    "print(s)\n",
    "s[1] = 0\n",
    "print(s,r)\n",
    "print(s is r)\n",
    "p = [10,12,14]\n",
    "q = [10,12,14]\n",
    "print(p == q)\n",
    "print(p is q)"
   ]
  },
  {
   "cell_type": "code",
   "execution_count": 14,
   "metadata": {},
   "outputs": [
    {
     "name": "stdout",
     "output_type": "stream",
     "text": "k =  [10, 12, 14, 32]\n[10, 12, 14, 32]\ng =  [10, 20, 30, 40]\n[10, 12, 14, 32]\ng =  [10, 20, 30, 40]\n[10, 20, 30, 40]\n"
    }
   ],
   "source": [
    "#Argument Passing (is call by reference) OR PASS BY OBJECT-REFERENCE\n",
    "n =[10,12,14]\n",
    "def modify(k):\n",
    "    k.append(32)\n",
    "    print(\"k = \", k)\n",
    "\n",
    "modify(n)\n",
    "print(n)\n",
    "\n",
    "def replace(g):\n",
    "    g = [10,20,30, 40]\n",
    "    print(\"g = \", g)\n",
    "replace(n)\n",
    "print(n)\n",
    "\n",
    "def new_replace(g):\n",
    "    g[0] = 10\n",
    "    g[1] = 20\n",
    "    g[2] = 30\n",
    "    g[3] = 40\n",
    "    print(\"g = \", g)\n",
    "new_replace(n)\n",
    "print(n)"
   ]
  },
  {
   "cell_type": "code",
   "execution_count": 18,
   "metadata": {},
   "outputs": [
    {
     "name": "stdout",
     "output_type": "stream",
     "text": "------\nPYTHON\n------\n******\nPYTHON\n******\n"
    }
   ],
   "source": [
    "#Default Arguments\n",
    "def banner(message, border='-'):\n",
    "    line = border * len(message) #Multiplying literal string with an int just repeats the string\n",
    "    print(line)\n",
    "    print(message)\n",
    "    print(line)\n",
    "\n",
    "banner(\"PYTHON\")\n",
    "banner(\"PYTHON\",'*') #or banner(\"PYTHON\", \"*\")"
   ]
  },
  {
   "cell_type": "code",
   "execution_count": 22,
   "metadata": {},
   "outputs": [
    {
     "name": "stdout",
     "output_type": "stream",
     "text": "Sat Apr 25 05:51:19 2020\n"
    }
   ],
   "source": [
    "import time\n",
    "time.ctime()\n",
    "def show_default(arg = time.ctime()):\n",
    "    print(arg)\n",
    "\n",
    "show_default()\n"
   ]
  },
  {
   "cell_type": "code",
   "execution_count": 25,
   "metadata": {},
   "outputs": [
    {
     "name": "stdout",
     "output_type": "stream",
     "text": "Sat Apr 25 05:51:19 2020\n"
    }
   ],
   "source": [
    "show_default() #Gives the same o/p even though its executed later because of arg being a default parameter\n",
    "#Give Immutable types as default value such as Int, Strings and None"
   ]
  },
  {
   "cell_type": "code",
   "execution_count": 28,
   "metadata": {},
   "outputs": [
    {
     "name": "stdout",
     "output_type": "stream",
     "text": "0\n0\n5\n"
    }
   ],
   "source": [
    "#Global Names\n",
    "count = 0\n",
    "def getcount():\n",
    "    print(count)\n",
    "def setcount(c):\n",
    "    count = c\n",
    "\n",
    "getcount()\n",
    "setcount(5)\n",
    "getcount()\n",
    "#Using global\n",
    "def newsetcount(c):\n",
    "    global count\n",
    "    count = c\n",
    "newsetcount(5)\n",
    "getcount()"
   ]
  },
  {
   "cell_type": "code",
   "execution_count": 38,
   "metadata": {},
   "outputs": [
    {
     "name": "stdout",
     "output_type": "stream",
     "text": "Norway 33 3\n('Norway', 0.93, 33, 1234, 23400000.0)\n('Norway', 0.93, 33, 'Norway', 0.93, 33, 'Norway', 0.93, 33)\n24\n1 2 3 4\n"
    }
   ],
   "source": [
    "#Tuples (Immutable)\n",
    "t = (\"Norway\", 0.93, 33)\n",
    "print(t[0],t[2],len(t))\n",
    "print(t + (1234, 234e5))\n",
    "print(t * 3)\n",
    "#Nested tuples\n",
    "t1 = ((123,23),(234,24),(345,34))\n",
    "print(t1[1][1])\n",
    "# h = (234) gives an int. h = (234,) gives a tuple\n",
    "#Tuple Unpacking\n",
    "(a,(b,(c,d))) = (1,(2,(3,4)))\n",
    "print(a,b,c,d)"
   ]
  },
  {
   "cell_type": "code",
   "execution_count": 39,
   "metadata": {},
   "outputs": [
    {
     "data": {
      "text/plain": "('Angelo', 'Michael')"
     },
     "execution_count": 39,
     "metadata": {},
     "output_type": "execute_result"
    }
   ],
   "source": [
    "#Swapping using tuples uses packing and unpacking\n",
    "a = \"Michael\"\n",
    "b = \"Angelo\"\n",
    "a,b = b,a\n",
    "a,b"
   ]
  },
  {
   "cell_type": "code",
   "execution_count": 46,
   "metadata": {},
   "outputs": [
    {
     "name": "stdout",
     "output_type": "stream",
     "text": "newfoundland\nblue:yellow:red\n['blue', 'yellow', 'red']\n('un', 'forget', 'table')\nSeattle - Boston\nSeattle Boston\n"
    }
   ],
   "source": [
    "#Strings (are immutable)\n",
    "\"New\" + \"Found\" + \"Land\"\n",
    "s = \"new\"\n",
    "s += \"found\"\n",
    "s += \"land\"\n",
    "print(s)\n",
    "#Use str.join()\n",
    "colors = ':'.join(['blue', 'yellow','red'])\n",
    "print(colors)\n",
    "print(colors.split(':'))\n",
    "print(\"unforgettable\".partition('forget')) #Since it gives a tuple, unpacking can be done at the user's behest\n",
    "origin, separator, destination = \"Seattle-Boston\".partition('-')\n",
    "print(origin, separator, destination)\n",
    "origin, _, destination = \"Seattle-Boston\".partition('-')\n",
    "print(origin, destination)"
   ]
  },
  {
   "cell_type": "code",
   "execution_count": 55,
   "metadata": {},
   "outputs": [
    {
     "name": "stdout",
     "output_type": "stream",
     "text": "The age of Jim is 40\nThe age of Jim is 40\nThe age of Jim is 40\nMath constants are: pi = 3.141592653589793 and e = 2.718281828459045\nMath constants are: pi = 3.14 and e = 2.72\nMath constants are: pi = 3.142 and e = 2.718\n"
    }
   ],
   "source": [
    "print(\"The age of {0} is {1}\".format(\"Jim\", 40))\n",
    "print(\"The age of {} is {}\".format(\"Jim\", 40))\n",
    "print(\"The age of {name} is {age}\".format(name=\"Jim\", age=40))\n",
    "import math\n",
    "print(\"Math constants are: pi = {m.pi} and e = {m.e}\".format(m=math))\n",
    "print(\"Math constants are: pi = {m.pi:.3} and e = {m.e:.3}\".format(m=math))\n",
    "print(\"Math constants are: pi = {m.pi:.3f} and e = {m.e:.3f}\".format(m=math))"
   ]
  },
  {
   "cell_type": "code",
   "execution_count": 63,
   "metadata": {},
   "outputs": [
    {
     "name": "stdout",
     "output_type": "stream",
     "text": "The value is 80\nThe value is 80\nThe current date is 2020-04-25\n"
    }
   ],
   "source": [
    "# F-STRINGS!\n",
    "value = 4 * 20\n",
    "print('The value is {value}'.format(value=value))\n",
    "print(f'The value is {value}')\n",
    "import datetime\n",
    "print(f'The current date is {datetime.datetime.now().date()}')"
   ]
  },
  {
   "cell_type": "code",
   "execution_count": 70,
   "metadata": {},
   "outputs": [
    {
     "name": "stdout",
     "output_type": "stream",
     "text": "[1, 2, 3, 4, 5, 6, 7, 8, 9]\n[1, 3, 5, 7, 9]\n(0, 5)\n(1, 347)\n(2, 2568)\n(3, 56832)\n(4, 12374965)\ni = 0, v = 5\ni = 1, v = 347\ni = 2, v = 2568\ni = 3, v = 56832\ni = 4, v = 12374965\n"
    }
   ],
   "source": [
    "#range()\n",
    "print(list(range(1,10)))\n",
    "print(list(range(1,10,2)))\n",
    "t = [5,347,2568,56832,12374965]\n",
    "for p in enumerate(t):\n",
    "    print(p)\n",
    "for i,v in enumerate(t):\n",
    "    print(f\"i = {i}, v = {v}\")    "
   ]
  },
  {
   "cell_type": "code",
   "execution_count": 164,
   "metadata": {},
   "outputs": [
    {
     "name": "stdout",
     "output_type": "stream",
     "text": "15 15 True\n[-4, 214] [1, -4] [214, 15]\nTrue\nFalse\nFalse\nFalse\n3 fox\nthe count of the is 2\n"
    }
   ],
   "source": [
    "#Lists\n",
    "r = [1 , -4, 214, 15]\n",
    "print(r[len(r) - 1], r[-1], r[-1] is r[len(r) - 1])\n",
    "print(r[1:-1], r[:2], r[2:])\n",
    "s = r\n",
    "print(s is r)\n",
    "t = r[:]\n",
    "print(t is r)\n",
    "u = r.copy()\n",
    "print(u is r)\n",
    "v = list(r)\n",
    "print(v is r) # all False do shallow copies\n",
    "\n",
    "w = \"the quick brown fox jumps over the lazy dog\".split(' ')\n",
    "i = w.index(\"fox\")\n",
    "print(i,w[i])\n",
    "#print(f\"the count of the is {w.count(\"the\")}\")  GIVES AN ERROR POSSIBLY DUE TO THE \"\"\"\" (NESTED \"\") \n",
    "print(f\"the count of the is {w.count('the')}\")\n"
   ]
  },
  {
   "cell_type": "code",
   "execution_count": 165,
   "metadata": {},
   "outputs": [
    {
     "name": "stdout",
     "output_type": "stream",
     "text": "['the', 'quick', 'brown', 'jumps', 'over', 'the', 'lazy']\n"
    }
   ],
   "source": [
    "# del KEYWORD\n",
    "s = w[:]\n",
    "del s[3] #is the same as del s['fox'] and del s[s.index['fox']]\n",
    "s.remove('dog')\n",
    "print(s)"
   ]
  },
  {
   "cell_type": "code",
   "execution_count": 166,
   "metadata": {},
   "outputs": [
    {
     "data": {
      "text/plain": "['the', 'quick', 'brown', 'fox', 'jumps', 'over', 'the', 'lazy', 'dog']"
     },
     "execution_count": 166,
     "metadata": {},
     "output_type": "execute_result"
    }
   ],
   "source": [
    "s.insert(3,\"fox\")\n",
    "s.insert(len(s),\"dog\")\n",
    "s"
   ]
  },
  {
   "cell_type": "code",
   "execution_count": 167,
   "metadata": {},
   "outputs": [
    {
     "name": "stdout",
     "output_type": "stream",
     "text": "[67, 3, 107, 2, 1]\n[107, 67, 3, 2, 1]\n['the', 'quick', 'brown', 'fox', 'jumps', 'over', 'the', 'lazy', 'dog']\n"
    },
    {
     "data": {
      "text/plain": "['the', 'fox', 'the', 'dog', 'over', 'lazy', 'quick', 'brown', 'jumps']"
     },
     "execution_count": 167,
     "metadata": {},
     "output_type": "execute_result"
    }
   ],
   "source": [
    "t1 = [1,2,107,3,67]\n",
    "t1.reverse()\n",
    "print(t1)\n",
    "t1.sort(reverse = True)\n",
    "print(t1)\n",
    "u1 = s\n",
    "print(u1)\n",
    "u1.sort(key=len)\n",
    "u1\n",
    "#use SORTED and REVERSED on a list so as to not do operations in-place."
   ]
  },
  {
   "cell_type": "code",
   "execution_count": 173,
   "metadata": {},
   "outputs": [
    {
     "name": "stdout",
     "output_type": "stream",
     "text": "{'alice': '0123', 'bob': '2345', 'cate': '3456', 'darren': '7890'}\nalice 0123\nbob 2345\ncate 3456\ndarren 7890\n"
    }
   ],
   "source": [
    "dct = {'alice':'1234','bob':'2345','cate':'3456'}\n",
    "dct.update({'alice':'0123','darren':'7890'})\n",
    "print(dct)\n",
    "# for values in dict.values():\n",
    "# for keys in dict.keys():\n",
    "for key, value in dct.items():\n",
    "    print(key,value)"
   ]
  },
  {
   "cell_type": "code",
   "execution_count": 183,
   "metadata": {},
   "outputs": [
    {
     "name": "stdout",
     "output_type": "stream",
     "text": "{1, 2, 4, 7, 9}\n{1, 2, 4, 7, 9, 63}\n{1, 2, 3, 4, 7, 9, 63}\n{1, 2, 4, 7, 9, 63}\n{'Amelia', 'Harry', 'Joshua', 'Lola'}\n{'Harry', 'Amelia'}\n{'Lily', 'Lola'}\n{'Lola', 'Lily'}\n"
    }
   ],
   "source": [
    "#Sets - Mutable , each element is also immutable, Unique, unordered items\n",
    "p = {6,28,496,8128,33550336}\n",
    "type(p)\n",
    "# p = {} is wrong. p = set() is right\n",
    "t2 = [1,4,2,1,7,9,9]\n",
    "p1 = set(t2)\n",
    "print(p1)\n",
    "p1.add(63)\n",
    "print(p1)\n",
    "p1.update([1,2,3,4])\n",
    "print(p1)\n",
    "p1.remove(3)\n",
    "print(p1)\n",
    "\n",
    "#Set Algebra\n",
    "smell_hcn = {'Harry', 'Amelia'}\n",
    "taste_ptc = {'Harry', 'Lily', 'Amelia', 'Lola'}\n",
    "ab_blood = {'Joshua', 'Lola'}\n",
    "print(smell_hcn.union(ab_blood)) # do either\n",
    "print(smell_hcn.intersection(taste_ptc)) #do both\n",
    "print(taste_ptc.difference(smell_hcn)) #Can taste but cant smell\n",
    "print(smell_hcn.symmetric_difference(taste_ptc)) #XORing sets"
   ]
  },
  {
   "cell_type": "code",
   "execution_count": 2,
   "metadata": {},
   "outputs": [
    {
     "data": {
      "text/plain": "137"
     },
     "execution_count": 2,
     "metadata": {},
     "output_type": "execute_result"
    }
   ],
   "source": [
    "#Exception Handling\n",
    "digit_map = { 'one': '1', 'two' : '2', 'three' : '3', 'four' : '4', 'five' : '5', 'six' : '6', 'seven' : '7', 'eight' : '8', 'nine' : '9', 'zero' : '0',}\n",
    "def convert(s):\n",
    "    try:\n",
    "        number=''\n",
    "        for token in s:\n",
    "            number+=digit_map[token]\n",
    "        x=int(number)\n",
    "    except KeyError: #Except block gives how to handle exception\n",
    "        print(\"Conversion failed! Its not given in digit_map\")\n",
    "        x=-1\n",
    "    except TypeError:\n",
    "        print(\"Conversion failed! Its a non iterable string\")\n",
    "        x=-1\n",
    "    return x\n",
    "convert('one three seven'.split())"
   ]
  },
  {
   "cell_type": "code",
   "execution_count": 3,
   "metadata": {},
   "outputs": [
    {
     "data": {
      "text/plain": "1375"
     },
     "execution_count": 3,
     "metadata": {},
     "output_type": "execute_result"
    }
   ],
   "source": [
    "def new_convert(s):\n",
    "    x = -1\n",
    "    try:\n",
    "        number=''\n",
    "        for token in s:\n",
    "            number+=digit_map[token]\n",
    "        x=int(number)\n",
    "    # except KeyError: #Except block gives how to handle exception\n",
    "    #     print(\"Conversion failed! Its not given in digit_map\")\n",
    "    #     x=-1\n",
    "    # except TypeError:\n",
    "    #     print(\"Conversion failed! Its a non iterable string\")\n",
    "    #     x=-1\n",
    "    except (KeyError, TypeError):\n",
    "        print(\"Conversion failed!\") #OR\n",
    "        pass #Use this BECAUSE WE CANT HAVE AN EMPTY BLOCK (IT GIVES AN INDENDATION ERROR)\n",
    "        # Or just return int(number) and -1 in try and except respectively to eliminate the need for x.\n",
    "    return x\n",
    "new_convert('one three seven five'.split())"
   ]
  },
  {
   "cell_type": "code",
   "execution_count": 7,
   "metadata": {},
   "outputs": [
    {
     "name": "stderr",
     "output_type": "stream",
     "text": "Conversion error: KeyError('cat')\n"
    },
    {
     "ename": "KeyError",
     "evalue": "'cat'",
     "output_type": "error",
     "traceback": [
      "\u001b[1;31m---------------------------------------------------------------------------\u001b[0m",
      "\u001b[1;31mKeyError\u001b[0m                                  Traceback (most recent call last)",
      "\u001b[1;32m<ipython-input-7-4c65052d87d9>\u001b[0m in \u001b[0;36m<module>\u001b[1;34m\u001b[0m\n\u001b[0;32m     17\u001b[0m         \u001b[1;31m# return -1\u001b[0m\u001b[1;33m\u001b[0m\u001b[1;33m\u001b[0m\u001b[1;33m\u001b[0m\u001b[0m\n\u001b[0;32m     18\u001b[0m \u001b[0mnew_convert1\u001b[0m\u001b[1;33m(\u001b[0m\u001b[1;34m'one three seven five eight'\u001b[0m\u001b[1;33m.\u001b[0m\u001b[0msplit\u001b[0m\u001b[1;33m(\u001b[0m\u001b[1;33m)\u001b[0m\u001b[1;33m)\u001b[0m\u001b[1;33m\u001b[0m\u001b[1;33m\u001b[0m\u001b[0m\n\u001b[1;32m---> 19\u001b[1;33m \u001b[0mnew_convert1\u001b[0m\u001b[1;33m(\u001b[0m\u001b[1;34m'one three seven five cat'\u001b[0m\u001b[1;33m.\u001b[0m\u001b[0msplit\u001b[0m\u001b[1;33m(\u001b[0m\u001b[1;33m)\u001b[0m\u001b[1;33m)\u001b[0m\u001b[1;33m\u001b[0m\u001b[1;33m\u001b[0m\u001b[0m\n\u001b[0m",
      "\u001b[1;32m<ipython-input-7-4c65052d87d9>\u001b[0m in \u001b[0;36mnew_convert1\u001b[1;34m(s)\u001b[0m\n\u001b[0;32m      4\u001b[0m         \u001b[0mnumber\u001b[0m\u001b[1;33m=\u001b[0m\u001b[1;34m''\u001b[0m\u001b[1;33m\u001b[0m\u001b[1;33m\u001b[0m\u001b[0m\n\u001b[0;32m      5\u001b[0m         \u001b[1;32mfor\u001b[0m \u001b[0mtoken\u001b[0m \u001b[1;32min\u001b[0m \u001b[0ms\u001b[0m\u001b[1;33m:\u001b[0m\u001b[1;33m\u001b[0m\u001b[1;33m\u001b[0m\u001b[0m\n\u001b[1;32m----> 6\u001b[1;33m             \u001b[0mnumber\u001b[0m\u001b[1;33m+=\u001b[0m\u001b[0mdigit_map\u001b[0m\u001b[1;33m[\u001b[0m\u001b[0mtoken\u001b[0m\u001b[1;33m]\u001b[0m\u001b[1;33m\u001b[0m\u001b[1;33m\u001b[0m\u001b[0m\n\u001b[0m\u001b[0;32m      7\u001b[0m         \u001b[1;32mreturn\u001b[0m \u001b[0mint\u001b[0m\u001b[1;33m(\u001b[0m\u001b[0mnumber\u001b[0m\u001b[1;33m)\u001b[0m\u001b[1;33m\u001b[0m\u001b[1;33m\u001b[0m\u001b[0m\n\u001b[0;32m      8\u001b[0m     \u001b[1;31m# except KeyError: #Except block gives how to handle exception\u001b[0m\u001b[1;33m\u001b[0m\u001b[1;33m\u001b[0m\u001b[1;33m\u001b[0m\u001b[0m\n",
      "\u001b[1;31mKeyError\u001b[0m: 'cat'"
     ]
    }
   ],
   "source": [
    "import sys\n",
    "def new_convert1(s):\n",
    "    try:\n",
    "        number=''\n",
    "        for token in s:\n",
    "            number+=digit_map[token]\n",
    "        return int(number)\n",
    "    # except KeyError: #Except block gives how to handle exception\n",
    "    #     print(\"Conversion failed! Its not given in digit_map\")\n",
    "    #     x=-1\n",
    "    # except TypeError:\n",
    "    #     print(\"Conversion failed! Its a non iterable string\")\n",
    "    #     x=-1\n",
    "    except (KeyError, TypeError) as e:\n",
    "        print(f\"Conversion error: {e!r}\",file = sys.stderr) #Using !r gives the repl representation, of e in the string\n",
    "        raise #re raises the exception(wot?)\n",
    "        # return -1\n",
    "new_convert1('one three seven five eight'.split())\n",
    "new_convert1('one three seven five cat'.split())"
   ]
  },
  {
   "cell_type": "code",
   "execution_count": 35,
   "metadata": {},
   "outputs": [],
   "source": [
    "import math\n",
    "def sqrt(x):\n",
    "    if x<0:\n",
    "        raise ValueError(f\"Cannot compute root of negative number {x}\")\n",
    "    guess = x\n",
    "    i = 0\n",
    "    while guess**2 !=x and i<20:\n",
    "        guess = (guess + x/guess)/2.0\n",
    "        i+=1\n",
    "    return guess"
   ]
  },
  {
   "cell_type": "code",
   "execution_count": 36,
   "metadata": {},
   "outputs": [
    {
     "name": "stdout",
     "output_type": "stream",
     "text": "2.0\n3.0\n"
    },
    {
     "ename": "ValueError",
     "evalue": "Cannot compute root of negative number -1",
     "output_type": "error",
     "traceback": [
      "\u001b[1;31m---------------------------------------------------------------------------\u001b[0m",
      "\u001b[1;31mValueError\u001b[0m                                Traceback (most recent call last)",
      "\u001b[1;32m<ipython-input-36-34e0153e7f04>\u001b[0m in \u001b[0;36m<module>\u001b[1;34m\u001b[0m\n\u001b[0;32m      2\u001b[0m     \u001b[0mprint\u001b[0m\u001b[1;33m(\u001b[0m\u001b[0msqrt\u001b[0m\u001b[1;33m(\u001b[0m\u001b[1;36m4\u001b[0m\u001b[1;33m)\u001b[0m\u001b[1;33m)\u001b[0m\u001b[1;33m\u001b[0m\u001b[1;33m\u001b[0m\u001b[0m\n\u001b[0;32m      3\u001b[0m     \u001b[0mprint\u001b[0m\u001b[1;33m(\u001b[0m\u001b[0msqrt\u001b[0m\u001b[1;33m(\u001b[0m\u001b[1;36m9\u001b[0m\u001b[1;33m)\u001b[0m\u001b[1;33m)\u001b[0m\u001b[1;33m\u001b[0m\u001b[1;33m\u001b[0m\u001b[0m\n\u001b[1;32m----> 4\u001b[1;33m     \u001b[0mprint\u001b[0m\u001b[1;33m(\u001b[0m\u001b[0msqrt\u001b[0m\u001b[1;33m(\u001b[0m\u001b[1;33m-\u001b[0m\u001b[1;36m1\u001b[0m\u001b[1;33m)\u001b[0m\u001b[1;33m)\u001b[0m\u001b[1;33m\u001b[0m\u001b[1;33m\u001b[0m\u001b[0m\n\u001b[0m\u001b[0;32m      5\u001b[0m \u001b[1;32mexcept\u001b[0m \u001b[0mZeroDivisionError\u001b[0m\u001b[1;33m:\u001b[0m \u001b[1;31m#Instead of raising valueError here, we can do it inside the function\u001b[0m\u001b[1;33m\u001b[0m\u001b[1;33m\u001b[0m\u001b[0m\n\u001b[0;32m      6\u001b[0m     \u001b[0mprint\u001b[0m\u001b[1;33m(\u001b[0m\u001b[1;34m\"Cant divide by 0\"\u001b[0m\u001b[1;33m)\u001b[0m\u001b[1;33m\u001b[0m\u001b[1;33m\u001b[0m\u001b[0m\n",
      "\u001b[1;32m<ipython-input-35-852c9df0ee3f>\u001b[0m in \u001b[0;36msqrt\u001b[1;34m(x)\u001b[0m\n\u001b[0;32m      2\u001b[0m \u001b[1;32mdef\u001b[0m \u001b[0msqrt\u001b[0m\u001b[1;33m(\u001b[0m\u001b[0mx\u001b[0m\u001b[1;33m)\u001b[0m\u001b[1;33m:\u001b[0m\u001b[1;33m\u001b[0m\u001b[1;33m\u001b[0m\u001b[0m\n\u001b[0;32m      3\u001b[0m     \u001b[1;32mif\u001b[0m \u001b[0mx\u001b[0m\u001b[1;33m<\u001b[0m\u001b[1;36m0\u001b[0m\u001b[1;33m:\u001b[0m\u001b[1;33m\u001b[0m\u001b[1;33m\u001b[0m\u001b[0m\n\u001b[1;32m----> 4\u001b[1;33m         \u001b[1;32mraise\u001b[0m \u001b[0mValueError\u001b[0m\u001b[1;33m(\u001b[0m\u001b[1;34mf\"Cannot compute root of negative number {x}\"\u001b[0m\u001b[1;33m)\u001b[0m\u001b[1;33m\u001b[0m\u001b[1;33m\u001b[0m\u001b[0m\n\u001b[0m\u001b[0;32m      5\u001b[0m     \u001b[0mguess\u001b[0m \u001b[1;33m=\u001b[0m \u001b[0mx\u001b[0m\u001b[1;33m\u001b[0m\u001b[1;33m\u001b[0m\u001b[0m\n\u001b[0;32m      6\u001b[0m     \u001b[0mi\u001b[0m \u001b[1;33m=\u001b[0m \u001b[1;36m0\u001b[0m\u001b[1;33m\u001b[0m\u001b[1;33m\u001b[0m\u001b[0m\n",
      "\u001b[1;31mValueError\u001b[0m: Cannot compute root of negative number -1"
     ]
    }
   ],
   "source": [
    "try:\n",
    "    print(sqrt(4))\n",
    "    print(sqrt(9))\n",
    "    print(sqrt(-1))\n",
    "except ZeroDivisionError: #Instead of raising valueError here, we can do it inside the function\n",
    "    print(\"Cant divide by 0\")"
   ]
  },
  {
   "cell_type": "code",
   "execution_count": 37,
   "metadata": {},
   "outputs": [],
   "source": [
    "# IndexError - out of range, KeyError, ValueError - inappropriate value ex - int(\"dog\") "
   ]
  },
  {
   "cell_type": "code",
   "execution_count": 7,
   "metadata": {},
   "outputs": [
    {
     "name": "stdout",
     "output_type": "stream",
     "text": "[3, 9, 1, 4, 8, 2, 4, 2, 3, 10, 6, 6, 9]\n[13, 13, 13, 13, 13, 13, 13, 13, 13, 13, 13, 13, 13]\n[1, 1, 1, 1, 2, 3, 3, 4, 5, 6, 7, 8, 9, 10, 11, 13, 14, 15, 16, 18] <class 'list'>\n{1, 2, 3, 4, 5, 6, 7, 8, 9, 10, 11, 13, 14, 15, 16, 18} <class 'set'>\n"
    }
   ],
   "source": [
    "#Iterables - LIST\n",
    "words = \"Why sometimes I have believed as many as six impossible things before breakfast\".split()\n",
    "words\n",
    "print([len(word) for word in words])\n",
    "print([len(words) for word in words])\n",
    "#Syntax - [expr(item) for item in iterable]\n",
    "from math import factorial\n",
    "f = [len(str(factorial(x))) for x in range(20)]\n",
    "print(f,type(f)) #List\n",
    "f1 = {len(str(factorial(x))) for x in range(20)}\n",
    "print(f1,type(f1)) #Set"
   ]
  },
  {
   "cell_type": "code",
   "execution_count": 8,
   "metadata": {},
   "outputs": [
    {
     "name": "stdout",
     "output_type": "stream",
     "text": "{'London': 'UK', 'Washington': 'USA', 'New Delhi': 'India', 'Stockholm': 'Sweden'}\n"
    }
   ],
   "source": [
    "#DICT\n",
    "country_capital = {'UK': 'London','USA':'Washington','India':'New Delhi','Sweden':'Stockholm'}\n",
    "capital_country = {capital: country for country, capital in country_capital.items()}\n",
    "print(capital_country)"
   ]
  },
  {
   "cell_type": "code",
   "execution_count": 18,
   "metadata": {},
   "outputs": [
    {
     "name": "stdout",
     "output_type": "stream",
     "text": "[2, 3, 5, 7, 11, 13, 17, 19, 23, 29, 31, 37, 41, 43, 47, 53, 59, 61, 67, 71, 73, 79, 83, 89, 97]\n{4: (1, 2, 4), 9: (1, 3, 9), 25: (1, 5, 25), 49: (1, 7, 49), 121: (1, 11, 121), 169: (1, 13, 169), 289: (1, 17, 289), 361: (1, 19, 361)}\n"
    }
   ],
   "source": [
    "from math import sqrt\n",
    "def is_prime(x):\n",
    "    if x<2:\n",
    "        return False\n",
    "    for i in range(2,int(sqrt(x))+1):\n",
    "        if x%i == 0:\n",
    "            return False\n",
    "    return True\n",
    "primes = [x for x in range(101) if is_prime(x)]\n",
    "print(primes)\n",
    "prime_square_divisors = {x*x:(1,x,x*x) for x in range(20) if is_prime(x)}\n",
    "print(prime_square_divisors)"
   ]
  },
  {
   "cell_type": "code",
   "execution_count": 22,
   "metadata": {},
   "outputs": [
    {
     "name": "stdout",
     "output_type": "stream",
     "text": "Summer\nAutumn\nWinter\n"
    },
    {
     "data": {
      "text/plain": "'1st'"
     },
     "execution_count": 22,
     "metadata": {},
     "output_type": "execute_result"
    }
   ],
   "source": [
    "#Iterable has iter() which generates iterator which has next() to move down the sequence\n",
    "iterable = ['Summer','Autumn','Winter','Spring']\n",
    "iterator = iter(iterable)\n",
    "# iterator.next()\n",
    "print(next(iterator))\n",
    "print(next(iterator))\n",
    "print(next(iterator))\n",
    "\n",
    "def first(iterable):\n",
    "    iterator = iter(iterable)\n",
    "    try:\n",
    "        return next(iterator)\n",
    "    except StopIteration:\n",
    "        raise ValueError(\"Iterable is Empty!\")\n",
    "\n",
    "first(iterable)\n",
    "first({'1st','2nd'})\n",
    "# first(set())"
   ]
  },
  {
   "cell_type": "code",
   "execution_count": null,
   "metadata": {},
   "outputs": [],
   "source": [
    "#Generator functions - Have atleast 1 yield statement\n",
    "def gen123():\n",
    "    yield 1\n",
    "    yield 2\n",
    "    yield 3\n",
    "g = gen123()\n",
    "print(g) #Generator functions give iterators\n",
    "print(next(g))\n",
    "print(next(g))\n",
    "print(next(g))\n",
    "# print(next(g))\n",
    "\n",
    "for v in gen123():\n",
    "    print(v) #Every call generates a new iterator object\n",
    "\n",
    "print(v == g)"
   ]
  },
  {
   "cell_type": "code",
   "execution_count": 7,
   "metadata": {},
   "outputs": [
    {
     "name": "stdout",
     "output_type": "stream",
     "text": "2\n1\n3\n4\n7\n11\n18\n"
    }
   ],
   "source": [
    "def lucas():\n",
    "    yield 2\n",
    "    a = 2\n",
    "    b = 1\n",
    "    while True:\n",
    "        yield b\n",
    "        a, b = b, a+b\n",
    "lucas()\n",
    "for x in lucas():\n",
    "    if x < 20:\n",
    "        print(x)\n",
    "    else:\n",
    "        break\n"
   ]
  },
  {
   "cell_type": "code",
   "execution_count": 14,
   "metadata": {},
   "outputs": [
    {
     "name": "stdout",
     "output_type": "stream",
     "text": "<generator object <genexpr> at 0x07305B18>\n[1, 4, 9, 16, 25, 36, 49, 64, 81, 100]\n<generator object <genexpr> at 0x07305290>\n[980100, 982081, 984064, 986049, 988036, 990025, 992016, 994009, 996004, 998001]\n"
    }
   ],
   "source": [
    "#Generator expressions= (expr(item) for item in iterable)\n",
    "thousand_squares = (x*x  for x in range(1,1000))\n",
    "print(thousand_squares)\n",
    "print(list(thousand_squares)[:10])\n",
    "thousand_squares = (x*x  for x in range(1,1000)) #Generators are only ONE TIME USE OBJECTS. Hence call the generator expr again.\n",
    "print(thousand_squares)\n",
    "print(list(thousand_squares)[-10:])"
   ]
  },
  {
   "cell_type": "code",
   "execution_count": 17,
   "metadata": {},
   "outputs": [
    {
     "data": {
      "text/plain": "333333833333500000"
     },
     "execution_count": 17,
     "metadata": {},
     "output_type": "execute_result"
    }
   ],
   "source": [
    "sum(x*x for x in range(1,1000001))\n",
    "sum((x*x for x in range(1,1000001)))"
   ]
  },
  {
   "cell_type": "code",
   "execution_count": 25,
   "metadata": {},
   "outputs": [
    {
     "name": "stdout",
     "output_type": "stream",
     "text": "<itertools.islice object at 0x06E4BCD0>\n[7841, 7853, 7867, 7873, 7877, 7879, 7883, 7901, 7907, 7919]\n3682913\n"
    }
   ],
   "source": [
    "from itertools import count,islice\n",
    "thousand_primes = islice((x for x in count() if is_prime(x)), 1000)\n",
    "print(thousand_primes)\n",
    "print(list(thousand_primes)[-10:])\n",
    "print(sum(islice((x for x in count() if is_prime(x)),1000)))"
   ]
  },
  {
   "cell_type": "code",
   "execution_count": 30,
   "metadata": {},
   "outputs": [
    {
     "name": "stdout",
     "output_type": "stream",
     "text": "True\nFalse\nFalse\n"
    }
   ],
   "source": [
    "print(any([False,False,True]))\n",
    "print(all([False,True,True]))\n",
    "print(any(is_prime(x) for x in range(1328,1361)))"
   ]
  },
  {
   "cell_type": "code",
   "execution_count": 34,
   "metadata": {},
   "outputs": [
    {
     "name": "stdout",
     "output_type": "stream",
     "text": "(12, 13)\n(14, 14)\n(15, 14)\n(15, 14)\n(17, 16)\n(21, 20)\nAverage = 12.5\nAverage = 14.0\nAverage = 14.5\nAverage = 14.5\nAverage = 16.5\nAverage = 20.5\nmin =  2.0, max = 13.0, avg =  9.0\nmin =  2.0, max = 14.0, avg = 10.0\nmin =  3.0, max = 15.0, avg = 10.7\nmin =  7.0, max = 15.0, avg = 12.0\nmin =  9.0, max = 17.0, avg = 14.0\nmin = 10.0, max = 21.0, avg = 17.0\n"
    }
   ],
   "source": [
    "sunday = [12,14,15,15,17,21]\n",
    "monday = [13,14,14,14,16,20]\n",
    "for item in zip(sunday,monday):\n",
    "    print(item)\n",
    "for sun,mon in zip(sunday,monday):\n",
    "    print(\"Average =\", (sun+mon)/2)\n",
    "tuesday = [2,2,3,7,9,10]\n",
    "for temps in zip(sunday,monday,tuesday):\n",
    "    print(f\"min = {min(temps):4.1f}, max = {max(temps):4.1f}, avg = {sum(temps) / len(temps):4.1f}\")"
   ]
  },
  {
   "cell_type": "code",
   "execution_count": 36,
   "metadata": {},
   "outputs": [
    {
     "name": "stdout",
     "output_type": "stream",
     "text": "<itertools.chain object at 0x073F4160>\nTrue\n"
    }
   ],
   "source": [
    "from itertools import chain\n",
    "temperatures = chain(sunday,monday,tuesday)\n",
    "print(temperatures)\n",
    "print(all(t>0 for t in temperatures))"
   ]
  },
  {
   "cell_type": "code",
   "execution_count": 10,
   "metadata": {},
   "outputs": [
    {
     "name": "stdout",
     "output_type": "stream",
     "text": "utf-8\n"
    }
   ],
   "source": [
    "#FILES!\n",
    "# Mode - r for read, w for write, a for append | Selectors - t for text, b for binary\n",
    "import sys\n",
    "print(sys.getdefaultencoding())\n",
    "f = open('wasteland.txt', mode='wt', encoding='utf-8')\n",
    "f.write('What are the roots that clutch, ')\n",
    "f.write('what branches grow \\n')\n",
    "f.write('Out of this stony rubbish? ')\n",
    "f.close()"
   ]
  },
  {
   "cell_type": "code",
   "execution_count": 25,
   "metadata": {},
   "outputs": [
    {
     "name": "stdout",
     "output_type": "stream",
     "text": "What are the roots that clutch, what branches grow \nOut of this stony rubbish? \n"
    },
    {
     "data": {
      "text/plain": "''"
     },
     "execution_count": 25,
     "metadata": {},
     "output_type": "execute_result"
    }
   ],
   "source": [
    "g = open('wasteland.txt', mode='rt', encoding='utf-8')\n",
    "print(g.read())\n",
    "g.read()"
   ]
  },
  {
   "cell_type": "code",
   "execution_count": 26,
   "metadata": {},
   "outputs": [
    {
     "data": {
      "text/plain": "'What are the roots that clutch, what branches grow \\n'"
     },
     "execution_count": 26,
     "metadata": {},
     "output_type": "execute_result"
    }
   ],
   "source": [
    "g.seek(0)\n",
    "g.readline()"
   ]
  },
  {
   "cell_type": "code",
   "execution_count": 27,
   "metadata": {},
   "outputs": [
    {
     "data": {
      "text/plain": "'Out of this stony rubbish? '"
     },
     "execution_count": 27,
     "metadata": {},
     "output_type": "execute_result"
    }
   ],
   "source": [
    "g.readline()"
   ]
  },
  {
   "cell_type": "code",
   "execution_count": 28,
   "metadata": {},
   "outputs": [
    {
     "name": "stdout",
     "output_type": "stream",
     "text": "['What are the roots that clutch, what branches grow \\n', 'Out of this stony rubbish? ']\n"
    }
   ],
   "source": [
    "g.seek(0)\n",
    "print(g.readlines())\n",
    "g.close()"
   ]
  },
  {
   "cell_type": "code",
   "execution_count": 29,
   "metadata": {},
   "outputs": [],
   "source": [
    "# Condensed if statement\n",
    "# result = true_value if condition else false_value"
   ]
  },
  {
   "cell_type": "code",
   "execution_count": 39,
   "metadata": {},
   "outputs": [
    {
     "name": "stdout",
     "output_type": "stream",
     "text": "['Albert Einstein', 'Alfred Wegener', 'Antoine Lavosier', 'Charles Darwin', 'Dmitri Mendeleev', 'Isaac Newton', 'Marie Curie', 'Niels Bohr']\n['Niels Bohr', 'Marie Curie', 'Charles Darwin', 'Albert Einstein', 'Antoine Lavosier', 'Dmitri Mendeleev', 'Isaac Newton', 'Alfred Wegener']\n"
    }
   ],
   "source": [
    "#Lambda Functions\n",
    "scientists = ['Marie Curie', 'Albert Einstein', 'Isaac Newton', 'Antoine Lavosier', 'Niels Bohr', 'Alfred Wegener', 'Charles Darwin', 'Dmitri Mendeleev']\n",
    "print(sorted(scientists, key=lambda name:name.split()))\n",
    "print(sorted(scientists, key=lambda name:name.split()[-1]))"
   ]
  },
  {
   "cell_type": "code",
   "execution_count": 1,
   "metadata": {},
   "outputs": [
    {
     "name": "stdout",
     "output_type": "stream",
     "text": "<function <lambda> at 0x055C2460>\nTesla\n"
    }
   ],
   "source": [
    "last_name= lambda name:name.split()[-1]\n",
    "print(last_name)\n",
    "print(last_name('Nikola Tesla'))"
   ]
  },
  {
   "cell_type": "code",
   "execution_count": 33,
   "metadata": {},
   "outputs": [
    {
     "data": {
      "text/html": "<div>\n<style scoped>\n    .dataframe tbody tr th:only-of-type {\n        vertical-align: middle;\n    }\n\n    .dataframe tbody tr th {\n        vertical-align: top;\n    }\n\n    .dataframe thead th {\n        text-align: right;\n    }\n</style>\n<table border=\"1\" class=\"dataframe\">\n  <thead>\n    <tr style=\"text-align: right;\">\n      <th></th>\n      <th>States</th>\n      <th>FIPS</th>\n    </tr>\n  </thead>\n  <tbody>\n    <tr>\n      <th>0</th>\n      <td>Alabama</td>\n      <td>1001</td>\n    </tr>\n    <tr>\n      <th>1</th>\n      <td>Alabama</td>\n      <td>1002</td>\n    </tr>\n    <tr>\n      <th>2</th>\n      <td>Alaska</td>\n      <td>1001</td>\n    </tr>\n    <tr>\n      <th>3</th>\n      <td>Alabama</td>\n      <td>1003</td>\n    </tr>\n    <tr>\n      <th>4</th>\n      <td>Alabama</td>\n      <td>1004</td>\n    </tr>\n    <tr>\n      <th>5</th>\n      <td>Alaska</td>\n      <td>NaN</td>\n    </tr>\n    <tr>\n      <th>6</th>\n      <td>Alaska</td>\n      <td>NaN</td>\n    </tr>\n    <tr>\n      <th>7</th>\n      <td>Rhode Island</td>\n      <td>NaN</td>\n    </tr>\n  </tbody>\n</table>\n</div>",
      "text/plain": "         States  FIPS\n0       Alabama  1001\n1       Alabama  1002\n2        Alaska  1001\n3       Alabama  1003\n4       Alabama  1004\n5        Alaska   NaN\n6        Alaska   NaN\n7  Rhode Island   NaN"
     },
     "execution_count": 33,
     "metadata": {},
     "output_type": "execute_result"
    }
   ],
   "source": [
    "import pandas as pd #Importing Pandas\n",
    "import numpy as np\n",
    "\n",
    "elec = pd.DataFrame()\n",
    "elec.insert(loc=0, column='States',value=['Alabama','Alabama','Alaska','Alabama','Alabama','Alaska','Alaska', 'Rhode Island'])\n",
    "fips = pd.Series(['1001', '1002', '1001', '1003', '1004', np.nan, np.nan, np.nan,])\n",
    "elec.insert(loc=1,column='FIPS',value=fips)\n",
    "elec"
   ]
  },
  {
   "cell_type": "code",
   "execution_count": 7,
   "metadata": {},
   "outputs": [
    {
     "name": "stdout",
     "output_type": "stream",
     "text": "[10, 7.5]\n10\n9.5\n10\n8\n7.5\n"
    }
   ],
   "source": [
    "PlayListRatings = [10, 9.5, 10, 8, 7.5, 5, 10, 10]\n",
    "i=0\n",
    "print(PlayListRatings[0:6:4])\n",
    "while PlayListRatings[i]>=6 :\n",
    "    # if (PlayListRatings[i]>=6):\n",
    "    print(PlayListRatings[i])\n",
    "    i+=1\n",
    "    # else:\n",
    "    #     break"
   ]
  },
  {
   "cell_type": "code",
   "execution_count": null,
   "metadata": {},
   "outputs": [],
   "source": []
  }
 ],
 "metadata": {
  "kernelspec": {
   "display_name": "Python 3",
   "language": "python",
   "name": "python3"
  },
  "language_info": {
   "codemirror_mode": {
    "name": "ipython",
    "version": 3
   },
   "file_extension": ".py",
   "mimetype": "text/x-python",
   "name": "python",
   "nbconvert_exporter": "python",
   "pygments_lexer": "ipython3",
   "version": "3.8.2-final"
  }
 },
 "nbformat": 4,
 "nbformat_minor": 4
}
